{
 "cells": [
  {
   "cell_type": "markdown",
   "metadata": {},
   "source": [
    "## Neural Network Modelling for NER using Embedding from Language Models (ELMo)\n",
    "### Note 1: You need an active internet connection to download ELMo and cache it when running for the first time.\n",
    "### Note 2: ELMo training and testing takes way too long to execute and needs a computer with atleast 32 GB RAM\n",
    "\n",
    "#### Input Files:\n",
    "#### Corpus_Sentences, Corpus_Sentences_Tags Corpus_POS_Tags\n",
    "#### Output Files:\n",
    "#### Corpus_Sentences_Test, Corpus_Sentences_Tags_Test, Corpus_POS_Tags_Test"
   ]
  },
  {
   "cell_type": "code",
   "execution_count": 48,
   "metadata": {},
   "outputs": [],
   "source": [
    "import numpy as np\n",
    "import pandas as pd\n",
    "import csv"
   ]
  },
  {
   "cell_type": "code",
   "execution_count": 2,
   "metadata": {},
   "outputs": [],
   "source": [
    "# Reading required Files\n",
    "list_of_sent_tags = list()\n",
    "list_of_sent_POS_tags = list()\n",
    "list_of_sent_words = list()\n",
    "with open(\"C:\\\\Project_NLP_Final\\\\Project Dataset\\\\PreProcessing\\\\Regex\\\\Corpus_Sentences.csv\",\"r\", encoding=\"utf8\") as csv_file:\n",
    "    csv_file = csv.reader(csv_file, delimiter=',', quotechar = '\"')\n",
    "    for row in csv_file:\n",
    "        list_of_sent_words.append(row)\n",
    "\n",
    "with open(\"C:\\\\Project_NLP_Final\\\\Project Dataset\\\\PreProcessing\\\\Regex\\\\Corpus_Sentences_Tags.csv\",\"r\", encoding=\"utf8\") as csv_file:\n",
    "    csv_file = csv.reader(csv_file, delimiter=',', quotechar = '\"')\n",
    "    for row in csv_file:\n",
    "        list_of_sent_tags.append(row)\n",
    "    \n",
    "with open(\"C:\\\\Project_NLP_Final\\\\Project Dataset\\\\PreProcessing\\\\Regex\\\\Corpus_POS_Tags.csv\",\"r\", encoding=\"utf8\") as csv_file:\n",
    "    csv_file = csv.reader(csv_file, delimiter=',', quotechar = '\"')\n",
    "    for row in csv_file:\n",
    "        list_of_sent_POS_tags.append(row)"
   ]
  },
  {
   "cell_type": "code",
   "execution_count": 3,
   "metadata": {},
   "outputs": [],
   "source": [
    "list_of_sent_tags_test = list()\n",
    "list_of_sent_POS_tags_test = list()\n",
    "list_of_sent_words_test = list()\n",
    "with open(\"C:\\\\Project_NLP_Final\\\\Project Dataset\\\\PreProcessing\\\\Regex\\\\Corpus_Sentences_Test.csv\",\"r\", encoding=\"utf8\") as csv_file:\n",
    "    csv_file = csv.reader(csv_file, delimiter=',', quotechar = '\"')\n",
    "    for row in csv_file:\n",
    "        list_of_sent_words_test.append(row)\n",
    "\n",
    "with open(\"C:\\\\Project_NLP_Final\\\\Project Dataset\\\\PreProcessing\\\\Regex\\\\Corpus_Sentences_Tags_Test.csv\",\"r\", encoding=\"utf8\") as csv_file:\n",
    "    csv_file = csv.reader(csv_file, delimiter=',', quotechar = '\"')\n",
    "    for row in csv_file:\n",
    "        list_of_sent_tags_test.append(row)\n",
    "    \n",
    "with open(\"C:\\\\Project_NLP_Final\\\\Project Dataset\\\\PreProcessing\\\\Regex\\\\Corpus_POS_Tags_Test.csv\",\"r\", encoding=\"utf8\") as csv_file:\n",
    "    csv_file = csv.reader(csv_file, delimiter=',', quotechar = '\"')\n",
    "    for row in csv_file:\n",
    "        list_of_sent_POS_tags_test.append(row)"
   ]
  },
  {
   "cell_type": "code",
   "execution_count": 4,
   "metadata": {},
   "outputs": [],
   "source": [
    "new_sent_tags = list_of_sent_tags + list_of_sent_tags_test"
   ]
  },
  {
   "cell_type": "code",
   "execution_count": 5,
   "metadata": {},
   "outputs": [],
   "source": [
    "new_sent_words = list_of_sent_words + list_of_sent_words_test"
   ]
  },
  {
   "cell_type": "code",
   "execution_count": 6,
   "metadata": {},
   "outputs": [],
   "source": [
    "new_sent_POS_tags = list_of_sent_POS_tags + list_of_sent_POS_tags_test"
   ]
  },
  {
   "cell_type": "code",
   "execution_count": 7,
   "metadata": {},
   "outputs": [
    {
     "data": {
      "text/html": [
       "<div>\n",
       "<table border=\"1\" class=\"dataframe\">\n",
       "  <thead>\n",
       "    <tr style=\"text-align: right;\">\n",
       "      <th></th>\n",
       "      <th>Sentence #</th>\n",
       "      <th>Word</th>\n",
       "      <th>POS</th>\n",
       "      <th>Tag</th>\n",
       "    </tr>\n",
       "  </thead>\n",
       "  <tbody>\n",
       "    <tr>\n",
       "      <th>130172</th>\n",
       "      <td>Sentence: 8785</td>\n",
       "      <td>if</td>\n",
       "      <td>IN</td>\n",
       "      <td>O</td>\n",
       "    </tr>\n",
       "    <tr>\n",
       "      <th>130173</th>\n",
       "      <td>Sentence: 8785</td>\n",
       "      <td>the</td>\n",
       "      <td>DT</td>\n",
       "      <td>O</td>\n",
       "    </tr>\n",
       "    <tr>\n",
       "      <th>130174</th>\n",
       "      <td>Sentence: 8785</td>\n",
       "      <td>pain</td>\n",
       "      <td>NN</td>\n",
       "      <td>B-SSLIF</td>\n",
       "    </tr>\n",
       "    <tr>\n",
       "      <th>130175</th>\n",
       "      <td>Sentence: 8785</td>\n",
       "      <td>worsens</td>\n",
       "      <td>NNS</td>\n",
       "      <td>O</td>\n",
       "    </tr>\n",
       "    <tr>\n",
       "      <th>130176</th>\n",
       "      <td>Sentence: 8785</td>\n",
       "      <td>in</td>\n",
       "      <td>IN</td>\n",
       "      <td>O</td>\n",
       "    </tr>\n",
       "    <tr>\n",
       "      <th>130177</th>\n",
       "      <td>Sentence: 8785</td>\n",
       "      <td>the</td>\n",
       "      <td>DT</td>\n",
       "      <td>O</td>\n",
       "    </tr>\n",
       "    <tr>\n",
       "      <th>130178</th>\n",
       "      <td>Sentence: 8785</td>\n",
       "      <td>interim</td>\n",
       "      <td>NN</td>\n",
       "      <td>O</td>\n",
       "    </tr>\n",
       "    <tr>\n",
       "      <th>130179</th>\n",
       "      <td>Sentence: 8785</td>\n",
       "      <td>.</td>\n",
       "      <td>.</td>\n",
       "      <td>O</td>\n",
       "    </tr>\n",
       "    <tr>\n",
       "      <th>130180</th>\n",
       "      <td>Sentence: 8786</td>\n",
       "      <td>Electronically</td>\n",
       "      <td>RB</td>\n",
       "      <td>O</td>\n",
       "    </tr>\n",
       "    <tr>\n",
       "      <th>130181</th>\n",
       "      <td>Sentence: 8786</td>\n",
       "      <td>signed</td>\n",
       "      <td>VBN</td>\n",
       "      <td>O</td>\n",
       "    </tr>\n",
       "    <tr>\n",
       "      <th>130182</th>\n",
       "      <td>Sentence: 8786</td>\n",
       "      <td>by</td>\n",
       "      <td>IN</td>\n",
       "      <td>O</td>\n",
       "    </tr>\n",
       "    <tr>\n",
       "      <th>130183</th>\n",
       "      <td>Sentence: 8786</td>\n",
       "      <td>Name</td>\n",
       "      <td>NNP</td>\n",
       "      <td>O</td>\n",
       "    </tr>\n",
       "    <tr>\n",
       "      <th>130184</th>\n",
       "      <td>Sentence: 8786</td>\n",
       "      <td>Name</td>\n",
       "      <td>NNP</td>\n",
       "      <td>O</td>\n",
       "    </tr>\n",
       "    <tr>\n",
       "      <th>130185</th>\n",
       "      <td>Sentence: 8786</td>\n",
       "      <td>M.D</td>\n",
       "      <td>NNP</td>\n",
       "      <td>O</td>\n",
       "    </tr>\n",
       "    <tr>\n",
       "      <th>130186</th>\n",
       "      <td>Sentence: 8786</td>\n",
       "      <td>.</td>\n",
       "      <td>.</td>\n",
       "      <td>O</td>\n",
       "    </tr>\n",
       "    <tr>\n",
       "      <th>130187</th>\n",
       "      <td>Sentence: 8787</td>\n",
       "      <td>Date</td>\n",
       "      <td>NNP</td>\n",
       "      <td>O</td>\n",
       "    </tr>\n",
       "    <tr>\n",
       "      <th>130188</th>\n",
       "      <td>Sentence: 8787</td>\n",
       "      <td>7</td>\n",
       "      <td>CD</td>\n",
       "      <td>O</td>\n",
       "    </tr>\n",
       "    <tr>\n",
       "      <th>130189</th>\n",
       "      <td>Sentence: 8787</td>\n",
       "      <td>45PM</td>\n",
       "      <td>CD</td>\n",
       "      <td>O</td>\n",
       "    </tr>\n",
       "    <tr>\n",
       "      <th>130190</th>\n",
       "      <td>Sentence: 8787</td>\n",
       "      <td>EST</td>\n",
       "      <td>NNP</td>\n",
       "      <td>O</td>\n",
       "    </tr>\n",
       "    <tr>\n",
       "      <th>130191</th>\n",
       "      <td>Sentence: 8787</td>\n",
       "      <td>Author</td>\n",
       "      <td>NN</td>\n",
       "      <td>O</td>\n",
       "    </tr>\n",
       "  </tbody>\n",
       "</table>\n",
       "</div>"
      ],
      "text/plain": [
       "            Sentence #            Word  POS      Tag\n",
       "130172  Sentence: 8785              if   IN        O\n",
       "130173  Sentence: 8785             the   DT        O\n",
       "130174  Sentence: 8785            pain   NN  B-SSLIF\n",
       "130175  Sentence: 8785         worsens  NNS        O\n",
       "130176  Sentence: 8785              in   IN        O\n",
       "130177  Sentence: 8785             the   DT        O\n",
       "130178  Sentence: 8785         interim   NN        O\n",
       "130179  Sentence: 8785               .    .        O\n",
       "130180  Sentence: 8786  Electronically   RB        O\n",
       "130181  Sentence: 8786          signed  VBN        O\n",
       "130182  Sentence: 8786              by   IN        O\n",
       "130183  Sentence: 8786            Name  NNP        O\n",
       "130184  Sentence: 8786            Name  NNP        O\n",
       "130185  Sentence: 8786             M.D  NNP        O\n",
       "130186  Sentence: 8786               .    .        O\n",
       "130187  Sentence: 8787            Date  NNP        O\n",
       "130188  Sentence: 8787               7   CD        O\n",
       "130189  Sentence: 8787            45PM   CD        O\n",
       "130190  Sentence: 8787             EST  NNP        O\n",
       "130191  Sentence: 8787          Author   NN        O"
      ]
     },
     "execution_count": 7,
     "metadata": {},
     "output_type": "execute_result"
    }
   ],
   "source": [
    "req_list_test = [[\"Sentence: \" + str(i + 1), word, POS, tag] for i, (sent, POS_sent, tag_sent) in enumerate(zip(list_of_sent_words_test, list_of_sent_POS_tags_test, list_of_sent_tags_test)) for word, POS, tag in zip(sent, POS_sent, tag_sent)]\n",
    "data_test = pd.DataFrame(req_list_test, columns = [\"Sentence #\", \"Word\", \"POS\", \"Tag\"])\n",
    "data_test.tail(20)"
   ]
  },
  {
   "cell_type": "code",
   "execution_count": 8,
   "metadata": {},
   "outputs": [
    {
     "data": {
      "text/html": [
       "<div>\n",
       "<table border=\"1\" class=\"dataframe\">\n",
       "  <thead>\n",
       "    <tr style=\"text-align: right;\">\n",
       "      <th></th>\n",
       "      <th>Sentence #</th>\n",
       "      <th>Word</th>\n",
       "      <th>POS</th>\n",
       "      <th>Tag</th>\n",
       "    </tr>\n",
       "  </thead>\n",
       "  <tbody>\n",
       "    <tr>\n",
       "      <th>730925</th>\n",
       "      <td>Sentence: 52217</td>\n",
       "      <td>Signed</td>\n",
       "      <td>NNP</td>\n",
       "      <td>O</td>\n",
       "    </tr>\n",
       "    <tr>\n",
       "      <th>730926</th>\n",
       "      <td>Sentence: 52217</td>\n",
       "      <td>By</td>\n",
       "      <td>IN</td>\n",
       "      <td>O</td>\n",
       "    </tr>\n",
       "    <tr>\n",
       "      <th>730927</th>\n",
       "      <td>Sentence: 52217</td>\n",
       "      <td>Name</td>\n",
       "      <td>NNP</td>\n",
       "      <td>O</td>\n",
       "    </tr>\n",
       "    <tr>\n",
       "      <th>730928</th>\n",
       "      <td>Sentence: 52217</td>\n",
       "      <td>Name</td>\n",
       "      <td>NNP</td>\n",
       "      <td>O</td>\n",
       "    </tr>\n",
       "    <tr>\n",
       "      <th>730929</th>\n",
       "      <td>Sentence: 52217</td>\n",
       "      <td>Name</td>\n",
       "      <td>NNP</td>\n",
       "      <td>O</td>\n",
       "    </tr>\n",
       "    <tr>\n",
       "      <th>730930</th>\n",
       "      <td>Sentence: 52217</td>\n",
       "      <td>,</td>\n",
       "      <td>,</td>\n",
       "      <td>O</td>\n",
       "    </tr>\n",
       "    <tr>\n",
       "      <th>730931</th>\n",
       "      <td>Sentence: 52217</td>\n",
       "      <td>MD</td>\n",
       "      <td>NNP</td>\n",
       "      <td>O</td>\n",
       "    </tr>\n",
       "    <tr>\n",
       "      <th>730932</th>\n",
       "      <td>Sentence: 52217</td>\n",
       "      <td>Date</td>\n",
       "      <td>NNP</td>\n",
       "      <td>O</td>\n",
       "    </tr>\n",
       "    <tr>\n",
       "      <th>730933</th>\n",
       "      <td>Sentence: 52217</td>\n",
       "      <td>14</td>\n",
       "      <td>CD</td>\n",
       "      <td>O</td>\n",
       "    </tr>\n",
       "    <tr>\n",
       "      <th>730934</th>\n",
       "      <td>Sentence: 52217</td>\n",
       "      <td>38</td>\n",
       "      <td>CD</td>\n",
       "      <td>O</td>\n",
       "    </tr>\n",
       "    <tr>\n",
       "      <th>730935</th>\n",
       "      <td>Sentence: 52217</td>\n",
       "      <td>D</td>\n",
       "      <td>NNP</td>\n",
       "      <td>O</td>\n",
       "    </tr>\n",
       "    <tr>\n",
       "      <th>730936</th>\n",
       "      <td>Sentence: 52217</td>\n",
       "      <td>Date</td>\n",
       "      <td>NNP</td>\n",
       "      <td>O</td>\n",
       "    </tr>\n",
       "    <tr>\n",
       "      <th>730937</th>\n",
       "      <td>Sentence: 52217</td>\n",
       "      <td>T</td>\n",
       "      <td>NNP</td>\n",
       "      <td>O</td>\n",
       "    </tr>\n",
       "    <tr>\n",
       "      <th>730938</th>\n",
       "      <td>Sentence: 52217</td>\n",
       "      <td>Date</td>\n",
       "      <td>NNP</td>\n",
       "      <td>O</td>\n",
       "    </tr>\n",
       "    <tr>\n",
       "      <th>730939</th>\n",
       "      <td>Sentence: 52217</td>\n",
       "      <td>9</td>\n",
       "      <td>CD</td>\n",
       "      <td>O</td>\n",
       "    </tr>\n",
       "    <tr>\n",
       "      <th>730940</th>\n",
       "      <td>Sentence: 52217</td>\n",
       "      <td>30</td>\n",
       "      <td>CD</td>\n",
       "      <td>O</td>\n",
       "    </tr>\n",
       "    <tr>\n",
       "      <th>730941</th>\n",
       "      <td>Sentence: 52217</td>\n",
       "      <td>P</td>\n",
       "      <td>NNP</td>\n",
       "      <td>O</td>\n",
       "    </tr>\n",
       "    <tr>\n",
       "      <th>730942</th>\n",
       "      <td>Sentence: 52217</td>\n",
       "      <td>FI</td>\n",
       "      <td>NNP</td>\n",
       "      <td>O</td>\n",
       "    </tr>\n",
       "    <tr>\n",
       "      <th>730943</th>\n",
       "      <td>Sentence: 52217</td>\n",
       "      <td>Medical_Record_Number</td>\n",
       "      <td>NNP</td>\n",
       "      <td>O</td>\n",
       "    </tr>\n",
       "    <tr>\n",
       "      <th>730944</th>\n",
       "      <td>Sentence: 52217</td>\n",
       "      <td>cc</td>\n",
       "      <td>NN</td>\n",
       "      <td>O</td>\n",
       "    </tr>\n",
       "  </tbody>\n",
       "</table>\n",
       "</div>"
      ],
      "text/plain": [
       "             Sentence #                   Word  POS Tag\n",
       "730925  Sentence: 52217                 Signed  NNP   O\n",
       "730926  Sentence: 52217                     By   IN   O\n",
       "730927  Sentence: 52217                   Name  NNP   O\n",
       "730928  Sentence: 52217                   Name  NNP   O\n",
       "730929  Sentence: 52217                   Name  NNP   O\n",
       "730930  Sentence: 52217                      ,    ,   O\n",
       "730931  Sentence: 52217                     MD  NNP   O\n",
       "730932  Sentence: 52217                   Date  NNP   O\n",
       "730933  Sentence: 52217                     14   CD   O\n",
       "730934  Sentence: 52217                     38   CD   O\n",
       "730935  Sentence: 52217                      D  NNP   O\n",
       "730936  Sentence: 52217                   Date  NNP   O\n",
       "730937  Sentence: 52217                      T  NNP   O\n",
       "730938  Sentence: 52217                   Date  NNP   O\n",
       "730939  Sentence: 52217                      9   CD   O\n",
       "730940  Sentence: 52217                     30   CD   O\n",
       "730941  Sentence: 52217                      P  NNP   O\n",
       "730942  Sentence: 52217                     FI  NNP   O\n",
       "730943  Sentence: 52217  Medical_Record_Number  NNP   O\n",
       "730944  Sentence: 52217                     cc   NN   O"
      ]
     },
     "execution_count": 8,
     "metadata": {},
     "output_type": "execute_result"
    }
   ],
   "source": [
    "req_list_train = [[\"Sentence: \" + str(i + 1), word, POS, tag] for i, (sent, POS_sent, tag_sent) in enumerate(zip(list_of_sent_words, list_of_sent_POS_tags, list_of_sent_tags)) for word, POS, tag in zip(sent, POS_sent, tag_sent)]\n",
    "data_train = pd.DataFrame(req_list_train, columns = [\"Sentence #\", \"Word\", \"POS\", \"Tag\"])\n",
    "data_train.tail(20)"
   ]
  },
  {
   "cell_type": "code",
   "execution_count": 9,
   "metadata": {},
   "outputs": [
    {
     "data": {
      "text/html": [
       "<div>\n",
       "<table border=\"1\" class=\"dataframe\">\n",
       "  <thead>\n",
       "    <tr style=\"text-align: right;\">\n",
       "      <th></th>\n",
       "      <th>Sentence #</th>\n",
       "      <th>Word</th>\n",
       "      <th>POS</th>\n",
       "      <th>Tag</th>\n",
       "    </tr>\n",
       "  </thead>\n",
       "  <tbody>\n",
       "    <tr>\n",
       "      <th>861117</th>\n",
       "      <td>Sentence: 61002</td>\n",
       "      <td>if</td>\n",
       "      <td>IN</td>\n",
       "      <td>O</td>\n",
       "    </tr>\n",
       "    <tr>\n",
       "      <th>861118</th>\n",
       "      <td>Sentence: 61002</td>\n",
       "      <td>the</td>\n",
       "      <td>DT</td>\n",
       "      <td>O</td>\n",
       "    </tr>\n",
       "    <tr>\n",
       "      <th>861119</th>\n",
       "      <td>Sentence: 61002</td>\n",
       "      <td>pain</td>\n",
       "      <td>NN</td>\n",
       "      <td>B-SSLIF</td>\n",
       "    </tr>\n",
       "    <tr>\n",
       "      <th>861120</th>\n",
       "      <td>Sentence: 61002</td>\n",
       "      <td>worsens</td>\n",
       "      <td>NNS</td>\n",
       "      <td>O</td>\n",
       "    </tr>\n",
       "    <tr>\n",
       "      <th>861121</th>\n",
       "      <td>Sentence: 61002</td>\n",
       "      <td>in</td>\n",
       "      <td>IN</td>\n",
       "      <td>O</td>\n",
       "    </tr>\n",
       "    <tr>\n",
       "      <th>861122</th>\n",
       "      <td>Sentence: 61002</td>\n",
       "      <td>the</td>\n",
       "      <td>DT</td>\n",
       "      <td>O</td>\n",
       "    </tr>\n",
       "    <tr>\n",
       "      <th>861123</th>\n",
       "      <td>Sentence: 61002</td>\n",
       "      <td>interim</td>\n",
       "      <td>NN</td>\n",
       "      <td>O</td>\n",
       "    </tr>\n",
       "    <tr>\n",
       "      <th>861124</th>\n",
       "      <td>Sentence: 61002</td>\n",
       "      <td>.</td>\n",
       "      <td>.</td>\n",
       "      <td>O</td>\n",
       "    </tr>\n",
       "    <tr>\n",
       "      <th>861125</th>\n",
       "      <td>Sentence: 61003</td>\n",
       "      <td>Electronically</td>\n",
       "      <td>RB</td>\n",
       "      <td>O</td>\n",
       "    </tr>\n",
       "    <tr>\n",
       "      <th>861126</th>\n",
       "      <td>Sentence: 61003</td>\n",
       "      <td>signed</td>\n",
       "      <td>VBN</td>\n",
       "      <td>O</td>\n",
       "    </tr>\n",
       "    <tr>\n",
       "      <th>861127</th>\n",
       "      <td>Sentence: 61003</td>\n",
       "      <td>by</td>\n",
       "      <td>IN</td>\n",
       "      <td>O</td>\n",
       "    </tr>\n",
       "    <tr>\n",
       "      <th>861128</th>\n",
       "      <td>Sentence: 61003</td>\n",
       "      <td>Name</td>\n",
       "      <td>NNP</td>\n",
       "      <td>O</td>\n",
       "    </tr>\n",
       "    <tr>\n",
       "      <th>861129</th>\n",
       "      <td>Sentence: 61003</td>\n",
       "      <td>Name</td>\n",
       "      <td>NNP</td>\n",
       "      <td>O</td>\n",
       "    </tr>\n",
       "    <tr>\n",
       "      <th>861130</th>\n",
       "      <td>Sentence: 61003</td>\n",
       "      <td>M.D</td>\n",
       "      <td>NNP</td>\n",
       "      <td>O</td>\n",
       "    </tr>\n",
       "    <tr>\n",
       "      <th>861131</th>\n",
       "      <td>Sentence: 61003</td>\n",
       "      <td>.</td>\n",
       "      <td>.</td>\n",
       "      <td>O</td>\n",
       "    </tr>\n",
       "    <tr>\n",
       "      <th>861132</th>\n",
       "      <td>Sentence: 61004</td>\n",
       "      <td>Date</td>\n",
       "      <td>NNP</td>\n",
       "      <td>O</td>\n",
       "    </tr>\n",
       "    <tr>\n",
       "      <th>861133</th>\n",
       "      <td>Sentence: 61004</td>\n",
       "      <td>7</td>\n",
       "      <td>CD</td>\n",
       "      <td>O</td>\n",
       "    </tr>\n",
       "    <tr>\n",
       "      <th>861134</th>\n",
       "      <td>Sentence: 61004</td>\n",
       "      <td>45PM</td>\n",
       "      <td>CD</td>\n",
       "      <td>O</td>\n",
       "    </tr>\n",
       "    <tr>\n",
       "      <th>861135</th>\n",
       "      <td>Sentence: 61004</td>\n",
       "      <td>EST</td>\n",
       "      <td>NNP</td>\n",
       "      <td>O</td>\n",
       "    </tr>\n",
       "    <tr>\n",
       "      <th>861136</th>\n",
       "      <td>Sentence: 61004</td>\n",
       "      <td>Author</td>\n",
       "      <td>NN</td>\n",
       "      <td>O</td>\n",
       "    </tr>\n",
       "  </tbody>\n",
       "</table>\n",
       "</div>"
      ],
      "text/plain": [
       "             Sentence #            Word  POS      Tag\n",
       "861117  Sentence: 61002              if   IN        O\n",
       "861118  Sentence: 61002             the   DT        O\n",
       "861119  Sentence: 61002            pain   NN  B-SSLIF\n",
       "861120  Sentence: 61002         worsens  NNS        O\n",
       "861121  Sentence: 61002              in   IN        O\n",
       "861122  Sentence: 61002             the   DT        O\n",
       "861123  Sentence: 61002         interim   NN        O\n",
       "861124  Sentence: 61002               .    .        O\n",
       "861125  Sentence: 61003  Electronically   RB        O\n",
       "861126  Sentence: 61003          signed  VBN        O\n",
       "861127  Sentence: 61003              by   IN        O\n",
       "861128  Sentence: 61003            Name  NNP        O\n",
       "861129  Sentence: 61003            Name  NNP        O\n",
       "861130  Sentence: 61003             M.D  NNP        O\n",
       "861131  Sentence: 61003               .    .        O\n",
       "861132  Sentence: 61004            Date  NNP        O\n",
       "861133  Sentence: 61004               7   CD        O\n",
       "861134  Sentence: 61004            45PM   CD        O\n",
       "861135  Sentence: 61004             EST  NNP        O\n",
       "861136  Sentence: 61004          Author   NN        O"
      ]
     },
     "execution_count": 9,
     "metadata": {},
     "output_type": "execute_result"
    }
   ],
   "source": [
    "req_list = [[\"Sentence: \" + str(i + 1), word, POS, tag] for i, (sent, POS_sent, tag_sent) in enumerate(zip(new_sent_words, new_sent_POS_tags, new_sent_tags)) for word, POS, tag in zip(sent, POS_sent, tag_sent)]\n",
    "data = pd.DataFrame(req_list, columns = [\"Sentence #\", \"Word\", \"POS\", \"Tag\"])\n",
    "data.tail(20)"
   ]
  },
  {
   "cell_type": "code",
   "execution_count": 10,
   "metadata": {},
   "outputs": [
    {
     "data": {
      "text/plain": [
       "18906"
      ]
     },
     "execution_count": 10,
     "metadata": {},
     "output_type": "execute_result"
    }
   ],
   "source": [
    "words = list(set(data[\"Word\"].values))\n",
    "words = sorted(words)\n",
    "words.append(\"ENDPAD\")\n",
    "n_words = len(words); n_words"
   ]
  },
  {
   "cell_type": "code",
   "execution_count": 11,
   "metadata": {},
   "outputs": [
    {
     "data": {
      "text/plain": [
       "17404"
      ]
     },
     "execution_count": 11,
     "metadata": {},
     "output_type": "execute_result"
    }
   ],
   "source": [
    "words_tr = list(set(data_train[\"Word\"].values))\n",
    "words_tr = sorted(words_tr)\n",
    "words_tr.append(\"ENDPAD\")\n",
    "n_words_tr = len(words_tr); n_words_tr"
   ]
  },
  {
   "cell_type": "code",
   "execution_count": 12,
   "metadata": {},
   "outputs": [
    {
     "data": {
      "text/plain": [
       "8334"
      ]
     },
     "execution_count": 12,
     "metadata": {},
     "output_type": "execute_result"
    }
   ],
   "source": [
    "words_te = list(set(data_test[\"Word\"].values))\n",
    "words_te = sorted(words_te)\n",
    "words_te.append(\"ENDPAD\")\n",
    "n_words_te = len(words_te); n_words_te"
   ]
  },
  {
   "cell_type": "code",
   "execution_count": 13,
   "metadata": {},
   "outputs": [
    {
     "data": {
      "text/plain": [
       "21"
      ]
     },
     "execution_count": 13,
     "metadata": {},
     "output_type": "execute_result"
    }
   ],
   "source": [
    "tags_test = list(set(data_test[\"Tag\"].values))\n",
    "tags_test = sorted(tags_test)\n",
    "n_tags_test = len(tags_test); n_tags_test"
   ]
  },
  {
   "cell_type": "code",
   "execution_count": 14,
   "metadata": {},
   "outputs": [
    {
     "data": {
      "text/plain": [
       "21"
      ]
     },
     "execution_count": 14,
     "metadata": {},
     "output_type": "execute_result"
    }
   ],
   "source": [
    "tags = list(set(data[\"Tag\"].values))\n",
    "tags = sorted(tags)\n",
    "n_tags = len(tags); n_tags"
   ]
  },
  {
   "cell_type": "code",
   "execution_count": 15,
   "metadata": {},
   "outputs": [],
   "source": [
    "class SentenceGetter(object):\n",
    "    \n",
    "    def __init__(self, data):\n",
    "        self.n_sent = 1\n",
    "        self.data = data\n",
    "        self.empty = False\n",
    "        agg_func = lambda s: [(w, p, t) for w, p, t in zip(s[\"Word\"].values.tolist(),\n",
    "                                                           s[\"POS\"].values.tolist(),\n",
    "                                                           s[\"Tag\"].values.tolist())]\n",
    "        self.grouped = self.data.groupby(\"Sentence #\").apply(agg_func)\n",
    "        self.sentences = [s for s in self.grouped]\n",
    "    \n",
    "    def get_next(self):\n",
    "        try:\n",
    "            s = self.grouped[\"Sentence: {}\".format(self.n_sent)]\n",
    "            self.n_sent += 1\n",
    "            return s\n",
    "        except:\n",
    "            return None"
   ]
  },
  {
   "cell_type": "code",
   "execution_count": 16,
   "metadata": {},
   "outputs": [],
   "source": [
    "getter = SentenceGetter(data_train)"
   ]
  },
  {
   "cell_type": "code",
   "execution_count": 17,
   "metadata": {},
   "outputs": [],
   "source": [
    "getter_test = SentenceGetter(data_test)"
   ]
  },
  {
   "cell_type": "code",
   "execution_count": 18,
   "metadata": {},
   "outputs": [],
   "source": [
    "sent = getter.get_next()"
   ]
  },
  {
   "cell_type": "code",
   "execution_count": 20,
   "metadata": {},
   "outputs": [],
   "source": [
    "sentences = getter.sentences"
   ]
  },
  {
   "cell_type": "code",
   "execution_count": 21,
   "metadata": {},
   "outputs": [],
   "source": [
    "sentences_test = getter_test.sentences"
   ]
  },
  {
   "cell_type": "code",
   "execution_count": 22,
   "metadata": {},
   "outputs": [],
   "source": [
    "max_len = 50\n",
    "tag2idx = {t: i for i, t in enumerate(tags)}"
   ]
  },
  {
   "cell_type": "code",
   "execution_count": 23,
   "metadata": {},
   "outputs": [
    {
     "data": {
      "text/plain": [
       "2"
      ]
     },
     "execution_count": 23,
     "metadata": {},
     "output_type": "execute_result"
    }
   ],
   "source": [
    "tag2idx[\"B-Drug\"]"
   ]
  },
  {
   "cell_type": "code",
   "execution_count": 24,
   "metadata": {},
   "outputs": [
    {
     "name": "stderr",
     "output_type": "stream",
     "text": [
      "Using TensorFlow backend.\n"
     ]
    }
   ],
   "source": [
    "# Getting the training and testing data\n",
    "from keras.preprocessing.sequence import pad_sequences\n",
    "X_te = [[w[0] for w in s] for s in sentences_test]\n",
    "X_tr = [[w[0] for w in s] for s in sentences]"
   ]
  },
  {
   "cell_type": "code",
   "execution_count": 25,
   "metadata": {},
   "outputs": [],
   "source": [
    "new_X = []\n",
    "for seq in X_te:\n",
    "    new_seq = []\n",
    "    for i in range(max_len):\n",
    "        try:\n",
    "            new_seq.append(seq[i])\n",
    "        except:\n",
    "            new_seq.append(\"__PAD__\")\n",
    "    new_X.append(new_seq)\n",
    "X_te = new_X\n",
    "\n",
    "new_X = []\n",
    "for seq in X_tr:\n",
    "    new_seq = []\n",
    "    for i in range(max_len):\n",
    "        try:\n",
    "            new_seq.append(seq[i])\n",
    "        except:\n",
    "            new_seq.append(\"__PAD__\")\n",
    "    new_X.append(new_seq)\n",
    "X_tr = new_X"
   ]
  },
  {
   "cell_type": "code",
   "execution_count": 27,
   "metadata": {},
   "outputs": [],
   "source": [
    "y_te = [[tag2idx[w[2]] for w in s] for s in sentences_test]\n",
    "y_tr = [[tag2idx[w[2]] for w in s] for s in sentences]"
   ]
  },
  {
   "cell_type": "code",
   "execution_count": 28,
   "metadata": {},
   "outputs": [],
   "source": [
    "y_te = pad_sequences(maxlen=max_len, sequences=y_te, padding=\"post\", value=tag2idx[\"O\"])\n",
    "y_tr = pad_sequences(maxlen=max_len, sequences=y_tr, padding=\"post\", value=tag2idx[\"O\"])"
   ]
  },
  {
   "cell_type": "code",
   "execution_count": 29,
   "metadata": {},
   "outputs": [],
   "source": [
    "batch_size = 32"
   ]
  },
  {
   "cell_type": "code",
   "execution_count": 33,
   "metadata": {},
   "outputs": [],
   "source": [
    "import tensorflow as tf\n",
    "import tensorflow_hub as hub\n",
    "from keras import backend as K"
   ]
  },
  {
   "cell_type": "code",
   "execution_count": 34,
   "metadata": {},
   "outputs": [],
   "source": [
    "sess = tf.Session()\n",
    "K.set_session(sess)"
   ]
  },
  {
   "cell_type": "code",
   "execution_count": 35,
   "metadata": {},
   "outputs": [
    {
     "name": "stdout",
     "output_type": "stream",
     "text": [
      "INFO:tensorflow:Using C:\\Users\\ASHWIN~1\\AppData\\Local\\Temp\\tfhub_modules to cache modules.\n",
      "INFO:tensorflow:Initialize variable module/aggregation/scaling:0 from checkpoint b'C:\\\\Users\\\\ASHWIN~1\\\\AppData\\\\Local\\\\Temp\\\\tfhub_modules\\\\9bb74bc86f9caffc8c47dd7b33ec4bb354d9602d\\\\variables\\\\variables' with aggregation/scaling\n",
      "INFO:tensorflow:Initialize variable module/aggregation/weights:0 from checkpoint b'C:\\\\Users\\\\ASHWIN~1\\\\AppData\\\\Local\\\\Temp\\\\tfhub_modules\\\\9bb74bc86f9caffc8c47dd7b33ec4bb354d9602d\\\\variables\\\\variables' with aggregation/weights\n",
      "INFO:tensorflow:Initialize variable module/bilm/CNN/W_cnn_0:0 from checkpoint b'C:\\\\Users\\\\ASHWIN~1\\\\AppData\\\\Local\\\\Temp\\\\tfhub_modules\\\\9bb74bc86f9caffc8c47dd7b33ec4bb354d9602d\\\\variables\\\\variables' with bilm/CNN/W_cnn_0\n",
      "INFO:tensorflow:Initialize variable module/bilm/CNN/W_cnn_1:0 from checkpoint b'C:\\\\Users\\\\ASHWIN~1\\\\AppData\\\\Local\\\\Temp\\\\tfhub_modules\\\\9bb74bc86f9caffc8c47dd7b33ec4bb354d9602d\\\\variables\\\\variables' with bilm/CNN/W_cnn_1\n",
      "INFO:tensorflow:Initialize variable module/bilm/CNN/W_cnn_2:0 from checkpoint b'C:\\\\Users\\\\ASHWIN~1\\\\AppData\\\\Local\\\\Temp\\\\tfhub_modules\\\\9bb74bc86f9caffc8c47dd7b33ec4bb354d9602d\\\\variables\\\\variables' with bilm/CNN/W_cnn_2\n",
      "INFO:tensorflow:Initialize variable module/bilm/CNN/W_cnn_3:0 from checkpoint b'C:\\\\Users\\\\ASHWIN~1\\\\AppData\\\\Local\\\\Temp\\\\tfhub_modules\\\\9bb74bc86f9caffc8c47dd7b33ec4bb354d9602d\\\\variables\\\\variables' with bilm/CNN/W_cnn_3\n",
      "INFO:tensorflow:Initialize variable module/bilm/CNN/W_cnn_4:0 from checkpoint b'C:\\\\Users\\\\ASHWIN~1\\\\AppData\\\\Local\\\\Temp\\\\tfhub_modules\\\\9bb74bc86f9caffc8c47dd7b33ec4bb354d9602d\\\\variables\\\\variables' with bilm/CNN/W_cnn_4\n",
      "INFO:tensorflow:Initialize variable module/bilm/CNN/W_cnn_5:0 from checkpoint b'C:\\\\Users\\\\ASHWIN~1\\\\AppData\\\\Local\\\\Temp\\\\tfhub_modules\\\\9bb74bc86f9caffc8c47dd7b33ec4bb354d9602d\\\\variables\\\\variables' with bilm/CNN/W_cnn_5\n",
      "INFO:tensorflow:Initialize variable module/bilm/CNN/W_cnn_6:0 from checkpoint b'C:\\\\Users\\\\ASHWIN~1\\\\AppData\\\\Local\\\\Temp\\\\tfhub_modules\\\\9bb74bc86f9caffc8c47dd7b33ec4bb354d9602d\\\\variables\\\\variables' with bilm/CNN/W_cnn_6\n",
      "INFO:tensorflow:Initialize variable module/bilm/CNN/b_cnn_0:0 from checkpoint b'C:\\\\Users\\\\ASHWIN~1\\\\AppData\\\\Local\\\\Temp\\\\tfhub_modules\\\\9bb74bc86f9caffc8c47dd7b33ec4bb354d9602d\\\\variables\\\\variables' with bilm/CNN/b_cnn_0\n",
      "INFO:tensorflow:Initialize variable module/bilm/CNN/b_cnn_1:0 from checkpoint b'C:\\\\Users\\\\ASHWIN~1\\\\AppData\\\\Local\\\\Temp\\\\tfhub_modules\\\\9bb74bc86f9caffc8c47dd7b33ec4bb354d9602d\\\\variables\\\\variables' with bilm/CNN/b_cnn_1\n",
      "INFO:tensorflow:Initialize variable module/bilm/CNN/b_cnn_2:0 from checkpoint b'C:\\\\Users\\\\ASHWIN~1\\\\AppData\\\\Local\\\\Temp\\\\tfhub_modules\\\\9bb74bc86f9caffc8c47dd7b33ec4bb354d9602d\\\\variables\\\\variables' with bilm/CNN/b_cnn_2\n",
      "INFO:tensorflow:Initialize variable module/bilm/CNN/b_cnn_3:0 from checkpoint b'C:\\\\Users\\\\ASHWIN~1\\\\AppData\\\\Local\\\\Temp\\\\tfhub_modules\\\\9bb74bc86f9caffc8c47dd7b33ec4bb354d9602d\\\\variables\\\\variables' with bilm/CNN/b_cnn_3\n",
      "INFO:tensorflow:Initialize variable module/bilm/CNN/b_cnn_4:0 from checkpoint b'C:\\\\Users\\\\ASHWIN~1\\\\AppData\\\\Local\\\\Temp\\\\tfhub_modules\\\\9bb74bc86f9caffc8c47dd7b33ec4bb354d9602d\\\\variables\\\\variables' with bilm/CNN/b_cnn_4\n",
      "INFO:tensorflow:Initialize variable module/bilm/CNN/b_cnn_5:0 from checkpoint b'C:\\\\Users\\\\ASHWIN~1\\\\AppData\\\\Local\\\\Temp\\\\tfhub_modules\\\\9bb74bc86f9caffc8c47dd7b33ec4bb354d9602d\\\\variables\\\\variables' with bilm/CNN/b_cnn_5\n",
      "INFO:tensorflow:Initialize variable module/bilm/CNN/b_cnn_6:0 from checkpoint b'C:\\\\Users\\\\ASHWIN~1\\\\AppData\\\\Local\\\\Temp\\\\tfhub_modules\\\\9bb74bc86f9caffc8c47dd7b33ec4bb354d9602d\\\\variables\\\\variables' with bilm/CNN/b_cnn_6\n",
      "INFO:tensorflow:Initialize variable module/bilm/CNN_high_0/W_carry:0 from checkpoint b'C:\\\\Users\\\\ASHWIN~1\\\\AppData\\\\Local\\\\Temp\\\\tfhub_modules\\\\9bb74bc86f9caffc8c47dd7b33ec4bb354d9602d\\\\variables\\\\variables' with bilm/CNN_high_0/W_carry\n",
      "INFO:tensorflow:Initialize variable module/bilm/CNN_high_0/W_transform:0 from checkpoint b'C:\\\\Users\\\\ASHWIN~1\\\\AppData\\\\Local\\\\Temp\\\\tfhub_modules\\\\9bb74bc86f9caffc8c47dd7b33ec4bb354d9602d\\\\variables\\\\variables' with bilm/CNN_high_0/W_transform\n",
      "INFO:tensorflow:Initialize variable module/bilm/CNN_high_0/b_carry:0 from checkpoint b'C:\\\\Users\\\\ASHWIN~1\\\\AppData\\\\Local\\\\Temp\\\\tfhub_modules\\\\9bb74bc86f9caffc8c47dd7b33ec4bb354d9602d\\\\variables\\\\variables' with bilm/CNN_high_0/b_carry\n",
      "INFO:tensorflow:Initialize variable module/bilm/CNN_high_0/b_transform:0 from checkpoint b'C:\\\\Users\\\\ASHWIN~1\\\\AppData\\\\Local\\\\Temp\\\\tfhub_modules\\\\9bb74bc86f9caffc8c47dd7b33ec4bb354d9602d\\\\variables\\\\variables' with bilm/CNN_high_0/b_transform\n",
      "INFO:tensorflow:Initialize variable module/bilm/CNN_high_1/W_carry:0 from checkpoint b'C:\\\\Users\\\\ASHWIN~1\\\\AppData\\\\Local\\\\Temp\\\\tfhub_modules\\\\9bb74bc86f9caffc8c47dd7b33ec4bb354d9602d\\\\variables\\\\variables' with bilm/CNN_high_1/W_carry\n",
      "INFO:tensorflow:Initialize variable module/bilm/CNN_high_1/W_transform:0 from checkpoint b'C:\\\\Users\\\\ASHWIN~1\\\\AppData\\\\Local\\\\Temp\\\\tfhub_modules\\\\9bb74bc86f9caffc8c47dd7b33ec4bb354d9602d\\\\variables\\\\variables' with bilm/CNN_high_1/W_transform\n",
      "INFO:tensorflow:Initialize variable module/bilm/CNN_high_1/b_carry:0 from checkpoint b'C:\\\\Users\\\\ASHWIN~1\\\\AppData\\\\Local\\\\Temp\\\\tfhub_modules\\\\9bb74bc86f9caffc8c47dd7b33ec4bb354d9602d\\\\variables\\\\variables' with bilm/CNN_high_1/b_carry\n",
      "INFO:tensorflow:Initialize variable module/bilm/CNN_high_1/b_transform:0 from checkpoint b'C:\\\\Users\\\\ASHWIN~1\\\\AppData\\\\Local\\\\Temp\\\\tfhub_modules\\\\9bb74bc86f9caffc8c47dd7b33ec4bb354d9602d\\\\variables\\\\variables' with bilm/CNN_high_1/b_transform\n",
      "INFO:tensorflow:Initialize variable module/bilm/CNN_proj/W_proj:0 from checkpoint b'C:\\\\Users\\\\ASHWIN~1\\\\AppData\\\\Local\\\\Temp\\\\tfhub_modules\\\\9bb74bc86f9caffc8c47dd7b33ec4bb354d9602d\\\\variables\\\\variables' with bilm/CNN_proj/W_proj\n",
      "INFO:tensorflow:Initialize variable module/bilm/CNN_proj/b_proj:0 from checkpoint b'C:\\\\Users\\\\ASHWIN~1\\\\AppData\\\\Local\\\\Temp\\\\tfhub_modules\\\\9bb74bc86f9caffc8c47dd7b33ec4bb354d9602d\\\\variables\\\\variables' with bilm/CNN_proj/b_proj\n",
      "INFO:tensorflow:Initialize variable module/bilm/RNN_0/RNN/MultiRNNCell/Cell0/rnn/lstm_cell/bias:0 from checkpoint b'C:\\\\Users\\\\ASHWIN~1\\\\AppData\\\\Local\\\\Temp\\\\tfhub_modules\\\\9bb74bc86f9caffc8c47dd7b33ec4bb354d9602d\\\\variables\\\\variables' with bilm/RNN_0/RNN/MultiRNNCell/Cell0/rnn/lstm_cell/bias\n",
      "INFO:tensorflow:Initialize variable module/bilm/RNN_0/RNN/MultiRNNCell/Cell0/rnn/lstm_cell/kernel:0 from checkpoint b'C:\\\\Users\\\\ASHWIN~1\\\\AppData\\\\Local\\\\Temp\\\\tfhub_modules\\\\9bb74bc86f9caffc8c47dd7b33ec4bb354d9602d\\\\variables\\\\variables' with bilm/RNN_0/RNN/MultiRNNCell/Cell0/rnn/lstm_cell/kernel\n",
      "INFO:tensorflow:Initialize variable module/bilm/RNN_0/RNN/MultiRNNCell/Cell0/rnn/lstm_cell/projection/kernel:0 from checkpoint b'C:\\\\Users\\\\ASHWIN~1\\\\AppData\\\\Local\\\\Temp\\\\tfhub_modules\\\\9bb74bc86f9caffc8c47dd7b33ec4bb354d9602d\\\\variables\\\\variables' with bilm/RNN_0/RNN/MultiRNNCell/Cell0/rnn/lstm_cell/projection/kernel\n",
      "INFO:tensorflow:Initialize variable module/bilm/RNN_0/RNN/MultiRNNCell/Cell1/rnn/lstm_cell/bias:0 from checkpoint b'C:\\\\Users\\\\ASHWIN~1\\\\AppData\\\\Local\\\\Temp\\\\tfhub_modules\\\\9bb74bc86f9caffc8c47dd7b33ec4bb354d9602d\\\\variables\\\\variables' with bilm/RNN_0/RNN/MultiRNNCell/Cell1/rnn/lstm_cell/bias\n",
      "INFO:tensorflow:Initialize variable module/bilm/RNN_0/RNN/MultiRNNCell/Cell1/rnn/lstm_cell/kernel:0 from checkpoint b'C:\\\\Users\\\\ASHWIN~1\\\\AppData\\\\Local\\\\Temp\\\\tfhub_modules\\\\9bb74bc86f9caffc8c47dd7b33ec4bb354d9602d\\\\variables\\\\variables' with bilm/RNN_0/RNN/MultiRNNCell/Cell1/rnn/lstm_cell/kernel\n",
      "INFO:tensorflow:Initialize variable module/bilm/RNN_0/RNN/MultiRNNCell/Cell1/rnn/lstm_cell/projection/kernel:0 from checkpoint b'C:\\\\Users\\\\ASHWIN~1\\\\AppData\\\\Local\\\\Temp\\\\tfhub_modules\\\\9bb74bc86f9caffc8c47dd7b33ec4bb354d9602d\\\\variables\\\\variables' with bilm/RNN_0/RNN/MultiRNNCell/Cell1/rnn/lstm_cell/projection/kernel\n",
      "INFO:tensorflow:Initialize variable module/bilm/RNN_1/RNN/MultiRNNCell/Cell0/rnn/lstm_cell/bias:0 from checkpoint b'C:\\\\Users\\\\ASHWIN~1\\\\AppData\\\\Local\\\\Temp\\\\tfhub_modules\\\\9bb74bc86f9caffc8c47dd7b33ec4bb354d9602d\\\\variables\\\\variables' with bilm/RNN_1/RNN/MultiRNNCell/Cell0/rnn/lstm_cell/bias\n"
     ]
    },
    {
     "name": "stdout",
     "output_type": "stream",
     "text": [
      "INFO:tensorflow:Initialize variable module/bilm/RNN_1/RNN/MultiRNNCell/Cell0/rnn/lstm_cell/kernel:0 from checkpoint b'C:\\\\Users\\\\ASHWIN~1\\\\AppData\\\\Local\\\\Temp\\\\tfhub_modules\\\\9bb74bc86f9caffc8c47dd7b33ec4bb354d9602d\\\\variables\\\\variables' with bilm/RNN_1/RNN/MultiRNNCell/Cell0/rnn/lstm_cell/kernel\n",
      "INFO:tensorflow:Initialize variable module/bilm/RNN_1/RNN/MultiRNNCell/Cell0/rnn/lstm_cell/projection/kernel:0 from checkpoint b'C:\\\\Users\\\\ASHWIN~1\\\\AppData\\\\Local\\\\Temp\\\\tfhub_modules\\\\9bb74bc86f9caffc8c47dd7b33ec4bb354d9602d\\\\variables\\\\variables' with bilm/RNN_1/RNN/MultiRNNCell/Cell0/rnn/lstm_cell/projection/kernel\n",
      "INFO:tensorflow:Initialize variable module/bilm/RNN_1/RNN/MultiRNNCell/Cell1/rnn/lstm_cell/bias:0 from checkpoint b'C:\\\\Users\\\\ASHWIN~1\\\\AppData\\\\Local\\\\Temp\\\\tfhub_modules\\\\9bb74bc86f9caffc8c47dd7b33ec4bb354d9602d\\\\variables\\\\variables' with bilm/RNN_1/RNN/MultiRNNCell/Cell1/rnn/lstm_cell/bias\n",
      "INFO:tensorflow:Initialize variable module/bilm/RNN_1/RNN/MultiRNNCell/Cell1/rnn/lstm_cell/kernel:0 from checkpoint b'C:\\\\Users\\\\ASHWIN~1\\\\AppData\\\\Local\\\\Temp\\\\tfhub_modules\\\\9bb74bc86f9caffc8c47dd7b33ec4bb354d9602d\\\\variables\\\\variables' with bilm/RNN_1/RNN/MultiRNNCell/Cell1/rnn/lstm_cell/kernel\n",
      "INFO:tensorflow:Initialize variable module/bilm/RNN_1/RNN/MultiRNNCell/Cell1/rnn/lstm_cell/projection/kernel:0 from checkpoint b'C:\\\\Users\\\\ASHWIN~1\\\\AppData\\\\Local\\\\Temp\\\\tfhub_modules\\\\9bb74bc86f9caffc8c47dd7b33ec4bb354d9602d\\\\variables\\\\variables' with bilm/RNN_1/RNN/MultiRNNCell/Cell1/rnn/lstm_cell/projection/kernel\n",
      "INFO:tensorflow:Initialize variable module/bilm/char_embed:0 from checkpoint b'C:\\\\Users\\\\ASHWIN~1\\\\AppData\\\\Local\\\\Temp\\\\tfhub_modules\\\\9bb74bc86f9caffc8c47dd7b33ec4bb354d9602d\\\\variables\\\\variables' with bilm/char_embed\n"
     ]
    }
   ],
   "source": [
    "# Getting the ELMo Model\n",
    "elmo_model = hub.Module(\"https://tfhub.dev/google/elmo/2\", trainable=True)\n",
    "sess.run(tf.global_variables_initializer())\n",
    "sess.run(tf.tables_initializer())"
   ]
  },
  {
   "cell_type": "code",
   "execution_count": 36,
   "metadata": {},
   "outputs": [],
   "source": [
    "def ElmoEmbedding(x):\n",
    "    return elmo_model(inputs={\n",
    "                            \"tokens\": tf.squeeze(tf.cast(x, tf.string)),\n",
    "                            \"sequence_len\": tf.constant(batch_size*[max_len])\n",
    "                      },\n",
    "                      signature=\"tokens\",\n",
    "                      as_dict=True)[\"elmo\"]"
   ]
  },
  {
   "cell_type": "code",
   "execution_count": 37,
   "metadata": {},
   "outputs": [],
   "source": [
    "from keras.models import Model, Input\n",
    "from keras.layers.merge import add\n",
    "from keras.layers import LSTM, Embedding, Dense, TimeDistributed, Dropout, Bidirectional, Lambda"
   ]
  },
  {
   "cell_type": "code",
   "execution_count": 38,
   "metadata": {},
   "outputs": [],
   "source": [
    "# Neural Network Modelling\n",
    "input_text = Input(shape=(max_len,), dtype=tf.string)\n",
    "embedding = Lambda(ElmoEmbedding, output_shape=(max_len, 1024))(input_text)\n",
    "x = Bidirectional(LSTM(units=512, return_sequences=True,\n",
    "                       recurrent_dropout=0.2, dropout=0.2))(embedding)\n",
    "x_rnn = Bidirectional(LSTM(units=512, return_sequences=True,\n",
    "                           recurrent_dropout=0.2, dropout=0.2))(x)\n",
    "x = add([x, x_rnn])  # residual connection to the first biLSTM\n",
    "out = TimeDistributed(Dense(n_tags, activation=\"softmax\"))(x)"
   ]
  },
  {
   "cell_type": "code",
   "execution_count": 39,
   "metadata": {},
   "outputs": [],
   "source": [
    "model = Model(input_text, out)"
   ]
  },
  {
   "cell_type": "code",
   "execution_count": 40,
   "metadata": {},
   "outputs": [],
   "source": [
    "model.compile(optimizer=\"adam\", loss=\"sparse_categorical_crossentropy\", metrics=[\"accuracy\"])"
   ]
  },
  {
   "cell_type": "code",
   "execution_count": 41,
   "metadata": {},
   "outputs": [
    {
     "name": "stdout",
     "output_type": "stream",
     "text": [
      "__________________________________________________________________________________________________\n",
      "Layer (type)                    Output Shape         Param #     Connected to                     \n",
      "==================================================================================================\n",
      "input_1 (InputLayer)            (None, 50)           0                                            \n",
      "__________________________________________________________________________________________________\n",
      "lambda_1 (Lambda)               (None, 50, 1024)     0           input_1[0][0]                    \n",
      "__________________________________________________________________________________________________\n",
      "bidirectional_1 (Bidirectional) (None, 50, 1024)     6295552     lambda_1[0][0]                   \n",
      "__________________________________________________________________________________________________\n",
      "bidirectional_2 (Bidirectional) (None, 50, 1024)     6295552     bidirectional_1[0][0]            \n",
      "__________________________________________________________________________________________________\n",
      "add_1 (Add)                     (None, 50, 1024)     0           bidirectional_1[0][0]            \n",
      "                                                                 bidirectional_2[0][0]            \n",
      "__________________________________________________________________________________________________\n",
      "time_distributed_1 (TimeDistrib (None, 50, 21)       21525       add_1[0][0]                      \n",
      "==================================================================================================\n",
      "Total params: 12,612,629\n",
      "Trainable params: 12,612,629\n",
      "Non-trainable params: 0\n",
      "__________________________________________________________________________________________________\n"
     ]
    }
   ],
   "source": [
    "model.summary()"
   ]
  },
  {
   "cell_type": "code",
   "execution_count": 42,
   "metadata": {},
   "outputs": [],
   "source": [
    "# Make sure to match the train, validation and testing size of data to match with the last batch size of the epoch. \n",
    "# Otherwise ELMo makes the Keras Model to break down and crash.\n",
    "X_tr, X_val = X_tr[:1305*batch_size], X_tr[-325*batch_size:]\n",
    "y_tr, y_val = y_tr[:1305*batch_size], y_tr[-325*batch_size:]\n",
    "y_tr = y_tr.reshape(y_tr.shape[0], y_tr.shape[1], 1)\n",
    "y_val = y_val.reshape(y_val.shape[0], y_val.shape[1], 1)"
   ]
  },
  {
   "cell_type": "code",
   "execution_count": 43,
   "metadata": {
    "scrolled": true
   },
   "outputs": [
    {
     "name": "stdout",
     "output_type": "stream",
     "text": [
      "Train on 41760 samples, validate on 10400 samples\n",
      "Epoch 1/5\n",
      "41760/41760 [==============================] - 56417s 1s/step - loss: 0.0695 - acc: 0.9795 - val_loss: 0.0562 - val_acc: 0.9826\n",
      "Epoch 2/5\n",
      "41760/41760 [==============================] - 59324s 1s/step - loss: 0.0432 - acc: 0.9862 - val_loss: 0.0560 - val_acc: 0.9832\n",
      "Epoch 3/5\n",
      "41760/41760 [==============================] - 55979s 1s/step - loss: 0.0365 - acc: 0.9880 - val_loss: 0.0538 - val_acc: 0.9842\n",
      "Epoch 4/5\n",
      "41760/41760 [==============================] - 55449s 1s/step - loss: 0.0312 - acc: 0.9895 - val_loss: 0.0537 - val_acc: 0.9846\n",
      "Epoch 5/5\n",
      "41760/41760 [==============================] - 52890s 1s/step - loss: 0.0273 - acc: 0.9906 - val_loss: 0.0575 - val_acc: 0.9848\n"
     ]
    }
   ],
   "source": [
    "from keras.callbacks import CSVLogger\n",
    "\n",
    "csv_logger = CSVLogger(\"C:\\\\Project_NLP_Final\\\\Project Dataset\\\\Saved Models\\\\ELMo\\\\training_log_ELMo.log\", separator=',', append=False)\n",
    "history = model.fit(np.array(X_tr), y_tr, validation_data=(np.array(X_val), y_val),\n",
    "                    batch_size=batch_size, epochs=5, verbose=1, callbacks=[csv_logger])"
   ]
  },
  {
   "cell_type": "code",
   "execution_count": 37,
   "metadata": {},
   "outputs": [],
   "source": [
    "import pandas as pd\n",
    "# log_data = history.history \n",
    "log_data = pd.read_csv(\"C:\\\\Project_NLP_Final\\\\Project Dataset\\\\Saved Models\\\\ELMo\\\\training_log_ELMo.log\", sep=',', engine='python') "
   ]
  },
  {
   "cell_type": "code",
   "execution_count": 38,
   "metadata": {},
   "outputs": [],
   "source": [
    "from keras_contrib.utils import save_load_utils\n",
    "save_load_utils.save_all_weights(model,\"C:\\\\Project_NLP_Final\\\\Project Dataset\\\\Saved Models\\\\ELMo\\\\NN_model_ELMo.h5\")\n",
    "#model.save(\"C:\\\\Project_NLP_Final\\\\Project Dataset\\\\Saved Models\\\\ELMo\\\\NN_model_ELMo.h5\")  # creates a HDF5 file 'my_model.h5'"
   ]
  },
  {
   "cell_type": "code",
   "execution_count": 51,
   "metadata": {
    "collapsed": true
   },
   "outputs": [
    {
     "ename": "OSError",
     "evalue": "Unable to open file (file signature not found)",
     "output_type": "error",
     "traceback": [
      "\u001b[1;31m---------------------------------------------------------------------------\u001b[0m",
      "\u001b[1;31mOSError\u001b[0m                                   Traceback (most recent call last)",
      "\u001b[1;32m<ipython-input-51-4b0daeff8545>\u001b[0m in \u001b[0;36m<module>\u001b[1;34m\u001b[0m\n\u001b[0;32m      4\u001b[0m \u001b[1;31m#del model\u001b[0m\u001b[1;33m\u001b[0m\u001b[1;33m\u001b[0m\u001b[1;33m\u001b[0m\u001b[0m\n\u001b[0;32m      5\u001b[0m \u001b[1;33m\u001b[0m\u001b[0m\n\u001b[1;32m----> 6\u001b[1;33m \u001b[0msave_load_utils\u001b[0m\u001b[1;33m.\u001b[0m\u001b[0mload_all_weights\u001b[0m\u001b[1;33m(\u001b[0m\u001b[0mmodel\u001b[0m\u001b[1;33m,\u001b[0m\u001b[1;34m\"C:\\\\Users\\\\AshwinAmbal\\\\Desktop\\\\Fall'18\\\\BMI NLP\\\\Project_NLP\\\\NN_model_temp_5_50_2_130_25.h5\"\u001b[0m\u001b[1;33m)\u001b[0m\u001b[1;33m\u001b[0m\u001b[1;33m\u001b[0m\u001b[0m\n\u001b[0m\u001b[0;32m      7\u001b[0m \u001b[1;31m#model = load_model(\"C:\\\\Users\\\\AshwinAmbal\\\\Desktop\\\\Fall'18\\\\BMI NLP\\\\Project_NLP\\\\NN_model.h5\", custom_objects={'CRF':CRF})\u001b[0m\u001b[1;33m\u001b[0m\u001b[1;33m\u001b[0m\u001b[1;33m\u001b[0m\u001b[0m\n",
      "\u001b[1;32m~\\Anaconda3\\lib\\site-packages\\keras_contrib\\utils\\save_load_utils.py\u001b[0m in \u001b[0;36mload_all_weights\u001b[1;34m(model, filepath, include_optimizer)\u001b[0m\n\u001b[0;32m     92\u001b[0m         \u001b[1;32mraise\u001b[0m \u001b[0mImportError\u001b[0m\u001b[1;33m(\u001b[0m\u001b[1;34m'`load_all_weights` requires h5py.'\u001b[0m\u001b[1;33m)\u001b[0m\u001b[1;33m\u001b[0m\u001b[1;33m\u001b[0m\u001b[0m\n\u001b[0;32m     93\u001b[0m \u001b[1;33m\u001b[0m\u001b[0m\n\u001b[1;32m---> 94\u001b[1;33m     \u001b[1;32mwith\u001b[0m \u001b[0mh5py\u001b[0m\u001b[1;33m.\u001b[0m\u001b[0mFile\u001b[0m\u001b[1;33m(\u001b[0m\u001b[0mfilepath\u001b[0m\u001b[1;33m,\u001b[0m \u001b[0mmode\u001b[0m\u001b[1;33m=\u001b[0m\u001b[1;34m'r'\u001b[0m\u001b[1;33m)\u001b[0m \u001b[1;32mas\u001b[0m \u001b[0mf\u001b[0m\u001b[1;33m:\u001b[0m\u001b[1;33m\u001b[0m\u001b[1;33m\u001b[0m\u001b[0m\n\u001b[0m\u001b[0;32m     95\u001b[0m         \u001b[1;31m# set weights\u001b[0m\u001b[1;33m\u001b[0m\u001b[1;33m\u001b[0m\u001b[1;33m\u001b[0m\u001b[0m\n\u001b[0;32m     96\u001b[0m         \u001b[0msaving\u001b[0m\u001b[1;33m.\u001b[0m\u001b[0mload_weights_from_hdf5_group\u001b[0m\u001b[1;33m(\u001b[0m\u001b[0mf\u001b[0m\u001b[1;33m[\u001b[0m\u001b[1;34m'model_weights'\u001b[0m\u001b[1;33m]\u001b[0m\u001b[1;33m,\u001b[0m \u001b[0mmodel\u001b[0m\u001b[1;33m.\u001b[0m\u001b[0mlayers\u001b[0m\u001b[1;33m)\u001b[0m\u001b[1;33m\u001b[0m\u001b[1;33m\u001b[0m\u001b[0m\n",
      "\u001b[1;32m~\\Anaconda3\\lib\\site-packages\\h5py\\_hl\\files.py\u001b[0m in \u001b[0;36m__init__\u001b[1;34m(self, name, mode, driver, libver, userblock_size, swmr, **kwds)\u001b[0m\n\u001b[0;32m    310\u001b[0m             \u001b[1;32mwith\u001b[0m \u001b[0mphil\u001b[0m\u001b[1;33m:\u001b[0m\u001b[1;33m\u001b[0m\u001b[1;33m\u001b[0m\u001b[0m\n\u001b[0;32m    311\u001b[0m                 \u001b[0mfapl\u001b[0m \u001b[1;33m=\u001b[0m \u001b[0mmake_fapl\u001b[0m\u001b[1;33m(\u001b[0m\u001b[0mdriver\u001b[0m\u001b[1;33m,\u001b[0m \u001b[0mlibver\u001b[0m\u001b[1;33m,\u001b[0m \u001b[1;33m**\u001b[0m\u001b[0mkwds\u001b[0m\u001b[1;33m)\u001b[0m\u001b[1;33m\u001b[0m\u001b[1;33m\u001b[0m\u001b[0m\n\u001b[1;32m--> 312\u001b[1;33m                 \u001b[0mfid\u001b[0m \u001b[1;33m=\u001b[0m \u001b[0mmake_fid\u001b[0m\u001b[1;33m(\u001b[0m\u001b[0mname\u001b[0m\u001b[1;33m,\u001b[0m \u001b[0mmode\u001b[0m\u001b[1;33m,\u001b[0m \u001b[0muserblock_size\u001b[0m\u001b[1;33m,\u001b[0m \u001b[0mfapl\u001b[0m\u001b[1;33m,\u001b[0m \u001b[0mswmr\u001b[0m\u001b[1;33m=\u001b[0m\u001b[0mswmr\u001b[0m\u001b[1;33m)\u001b[0m\u001b[1;33m\u001b[0m\u001b[1;33m\u001b[0m\u001b[0m\n\u001b[0m\u001b[0;32m    313\u001b[0m \u001b[1;33m\u001b[0m\u001b[0m\n\u001b[0;32m    314\u001b[0m                 \u001b[1;32mif\u001b[0m \u001b[0mswmr_support\u001b[0m\u001b[1;33m:\u001b[0m\u001b[1;33m\u001b[0m\u001b[1;33m\u001b[0m\u001b[0m\n",
      "\u001b[1;32m~\\Anaconda3\\lib\\site-packages\\h5py\\_hl\\files.py\u001b[0m in \u001b[0;36mmake_fid\u001b[1;34m(name, mode, userblock_size, fapl, fcpl, swmr)\u001b[0m\n\u001b[0;32m    140\u001b[0m         \u001b[1;32mif\u001b[0m \u001b[0mswmr\u001b[0m \u001b[1;32mand\u001b[0m \u001b[0mswmr_support\u001b[0m\u001b[1;33m:\u001b[0m\u001b[1;33m\u001b[0m\u001b[1;33m\u001b[0m\u001b[0m\n\u001b[0;32m    141\u001b[0m             \u001b[0mflags\u001b[0m \u001b[1;33m|=\u001b[0m \u001b[0mh5f\u001b[0m\u001b[1;33m.\u001b[0m\u001b[0mACC_SWMR_READ\u001b[0m\u001b[1;33m\u001b[0m\u001b[1;33m\u001b[0m\u001b[0m\n\u001b[1;32m--> 142\u001b[1;33m         \u001b[0mfid\u001b[0m \u001b[1;33m=\u001b[0m \u001b[0mh5f\u001b[0m\u001b[1;33m.\u001b[0m\u001b[0mopen\u001b[0m\u001b[1;33m(\u001b[0m\u001b[0mname\u001b[0m\u001b[1;33m,\u001b[0m \u001b[0mflags\u001b[0m\u001b[1;33m,\u001b[0m \u001b[0mfapl\u001b[0m\u001b[1;33m=\u001b[0m\u001b[0mfapl\u001b[0m\u001b[1;33m)\u001b[0m\u001b[1;33m\u001b[0m\u001b[1;33m\u001b[0m\u001b[0m\n\u001b[0m\u001b[0;32m    143\u001b[0m     \u001b[1;32melif\u001b[0m \u001b[0mmode\u001b[0m \u001b[1;33m==\u001b[0m \u001b[1;34m'r+'\u001b[0m\u001b[1;33m:\u001b[0m\u001b[1;33m\u001b[0m\u001b[1;33m\u001b[0m\u001b[0m\n\u001b[0;32m    144\u001b[0m         \u001b[0mfid\u001b[0m \u001b[1;33m=\u001b[0m \u001b[0mh5f\u001b[0m\u001b[1;33m.\u001b[0m\u001b[0mopen\u001b[0m\u001b[1;33m(\u001b[0m\u001b[0mname\u001b[0m\u001b[1;33m,\u001b[0m \u001b[0mh5f\u001b[0m\u001b[1;33m.\u001b[0m\u001b[0mACC_RDWR\u001b[0m\u001b[1;33m,\u001b[0m \u001b[0mfapl\u001b[0m\u001b[1;33m=\u001b[0m\u001b[0mfapl\u001b[0m\u001b[1;33m)\u001b[0m\u001b[1;33m\u001b[0m\u001b[1;33m\u001b[0m\u001b[0m\n",
      "\u001b[1;32mh5py\\_objects.pyx\u001b[0m in \u001b[0;36mh5py._objects.with_phil.wrapper\u001b[1;34m()\u001b[0m\n",
      "\u001b[1;32mh5py\\_objects.pyx\u001b[0m in \u001b[0;36mh5py._objects.with_phil.wrapper\u001b[1;34m()\u001b[0m\n",
      "\u001b[1;32mh5py\\h5f.pyx\u001b[0m in \u001b[0;36mh5py.h5f.open\u001b[1;34m()\u001b[0m\n",
      "\u001b[1;31mOSError\u001b[0m: Unable to open file (file signature not found)"
     ]
    }
   ],
   "source": [
    "from keras_contrib.utils import save_load_utils\n",
    "# returns a compiled model\n",
    "# identical to the previous one\n",
    "#del model\n",
    "\n",
    "#save_load_utils.load_all_weights(model,\"C:\\\\Project_NLP_Final\\\\Project Dataset\\\\Saved Models\\\\ELMo\\\\NN_model_ELMo.h5\")\n",
    "#model = load_model(\"C:\\\\Project_NLP_Final\\\\Project Dataset\\\\Saved Models\\\\ELMo\\\\NN_Model_ELMo.h5\", custom_objects={'CRF':CRF})"
   ]
  },
  {
   "cell_type": "code",
   "execution_count": 39,
   "metadata": {},
   "outputs": [],
   "source": [
    "hist = pd.DataFrame(log_data)"
   ]
  },
  {
   "cell_type": "code",
   "execution_count": 42,
   "metadata": {
    "scrolled": false
   },
   "outputs": [
    {
     "data": {
      "image/png": "[encoded data removed]",
      "text/plain": [
       "<Figure size 576x360 with 1 Axes>"
      ]
     },
     "metadata": {},
     "output_type": "display_data"
    }
   ],
   "source": [
    "# Visualizing the Train-Validation Accuracy and Loss Curves\n",
    "import matplotlib.pyplot as plt\n",
    "acc = hist['acc']\n",
    "val_acc = hist['val_acc']\n",
    "epochs = range(1, len(acc) + 1)\n",
    "plt.style.use(\"ggplot\")\n",
    "plt.figure(figsize=(8,5))\n",
    "plt.plot(epochs, acc, 'bo', label='Training Acc')\n",
    "plt.plot(epochs, val_acc, 'b', label='Validation Acc')\n",
    "plt.title(\"Training and Validation Accuracy\")\n",
    "plt.legend()\n",
    "plt.show()"
   ]
  },
  {
   "cell_type": "code",
   "execution_count": 49,
   "metadata": {},
   "outputs": [
    {
     "data": {
      "image/png": "[encoded data removed]",
      "text/plain": [
       "<Figure size 576x360 with 1 Axes>"
      ]
     },
     "metadata": {},
     "output_type": "display_data"
    }
   ],
   "source": [
    "loss = hist['loss']\n",
    "val_loss = hist['val_loss']\n",
    "epochs = range(1, len(acc) + 1)\n",
    "plt.style.use(\"ggplot\")\n",
    "plt.figure(figsize=(8,5))\n",
    "plt.plot(epochs, loss, 'bo', label='Training Loss')\n",
    "plt.plot(epochs, val_loss, 'b', label='Validation Loss ')\n",
    "plt.title(\"Training and Validation Loss\")\n",
    "plt.legend()\n",
    "plt.show()"
   ]
  },
  {
   "cell_type": "code",
   "execution_count": 50,
   "metadata": {},
   "outputs": [],
   "source": [
    "from seqeval.metrics import precision_score, recall_score, f1_score, classification_report"
   ]
  },
  {
   "cell_type": "code",
   "execution_count": 54,
   "metadata": {},
   "outputs": [],
   "source": [
    "# Truncating the data so that the last batch size can fit the data\n",
    "X_te = X_te[:8768]"
   ]
  },
  {
   "cell_type": "code",
   "execution_count": 55,
   "metadata": {},
   "outputs": [
    {
     "name": "stdout",
     "output_type": "stream",
     "text": [
      "8768/8768 [==============================] - 7552s 861ms/step\n"
     ]
    }
   ],
   "source": [
    "# Predicting on the test data\n",
    "test_pred = model.predict(np.array(X_te), verbose=1)"
   ]
  },
  {
   "cell_type": "code",
   "execution_count": 56,
   "metadata": {},
   "outputs": [],
   "source": [
    "# Truncating the test tags accordingly\n",
    "y_te = y_te[:8768]"
   ]
  },
  {
   "cell_type": "code",
   "execution_count": 59,
   "metadata": {},
   "outputs": [],
   "source": [
    "idx2tag = {i: w for w, i in tag2idx.items()}\n",
    "\n",
    "def pred2label(pred):\n",
    "    out = []\n",
    "    for pred_i in pred:\n",
    "        out_i = []\n",
    "        for p in pred_i:\n",
    "            p_i = np.argmax(p)\n",
    "            out_i.append(idx2tag[p_i].replace(\"__PAD__\", \"O\"))\n",
    "        out.append(out_i)\n",
    "    return out\n",
    "    \n",
    "pred_labels = pred2label(test_pred)\n",
    "test_labels = pred2label(y_te)\n",
    "indices = [i for i, v in enumerate(pred_labels) if test_labels[i] != pred_labels[i]]"
   ]
  },
  {
   "cell_type": "code",
   "execution_count": null,
   "metadata": {},
   "outputs": [],
   "source": [
    "idx2tag = {i: w for w, i in tag2idx.items()}\n",
    "def tolabel(predicted):\n",
    "    out = []\n",
    "    for i, pred_i in enumerate(predicted):\n",
    "        out_i = []\n",
    "        for p in pred_i:\n",
    "            out_i.append(idx2tag[p])\n",
    "        out.append(out_i)\n",
    "    return out\n",
    "test_labels = tolabel(y_te)\n",
    "#pred_labels = tolabel(test_pred)"
   ]
  },
  {
   "cell_type": "code",
   "execution_count": 70,
   "metadata": {},
   "outputs": [],
   "source": [
    "indices = [i for i, v in enumerate(pred_labels) if test_labels[i] != pred_labels[i]]"
   ]
  },
  {
   "cell_type": "code",
   "execution_count": 64,
   "metadata": {},
   "outputs": [],
   "source": [
    "from sklearn.metrics import precision_recall_fscore_support"
   ]
  },
  {
   "cell_type": "code",
   "execution_count": 65,
   "metadata": {},
   "outputs": [
    {
     "data": {
      "text/plain": [
       "0.7375749568045533"
      ]
     },
     "execution_count": 65,
     "metadata": {},
     "output_type": "execute_result"
    }
   ],
   "source": [
    "f1_score(test_labels, pred_labels, average='weighted')"
   ]
  },
  {
   "cell_type": "code",
   "execution_count": 66,
   "metadata": {},
   "outputs": [
    {
     "data": {
      "text/plain": [
       "0.7375749568045533"
      ]
     },
     "execution_count": 66,
     "metadata": {},
     "output_type": "execute_result"
    }
   ],
   "source": [
    "f1_score(test_labels, pred_labels, average='micro')"
   ]
  },
  {
   "cell_type": "code",
   "execution_count": 67,
   "metadata": {},
   "outputs": [
    {
     "data": {
      "text/plain": [
       "0.7375749568045533"
      ]
     },
     "execution_count": 67,
     "metadata": {},
     "output_type": "execute_result"
    }
   ],
   "source": [
    "f1_score(test_labels, pred_labels, average='macro')"
   ]
  },
  {
   "cell_type": "code",
   "execution_count": 68,
   "metadata": {},
   "outputs": [
    {
     "name": "stdout",
     "output_type": "stream",
     "text": [
      "             precision    recall  f1-score   support\n",
      "\n",
      "       Drug       0.87      0.75      0.81      2132\n",
      "  Frequency       0.72      0.55      0.63       536\n",
      "   Severity       0.77      0.75      0.76       464\n",
      " Indication       0.49      0.34      0.40       557\n",
      "      SSLIF       0.74      0.80      0.77      5016\n",
      "        ADE       0.61      0.31      0.41       371\n",
      "       Dose       0.84      0.65      0.73       624\n",
      "      Route       0.82      0.70      0.75       296\n",
      "   Duration       0.75      0.62      0.68       130\n",
      "        PHI       0.09      0.08      0.09        25\n",
      "\n",
      "avg / total       0.76      0.71      0.73     10151\n",
      "\n"
     ]
    }
   ],
   "source": [
    "print(classification_report(test_labels, pred_labels))"
   ]
  },
  {
   "cell_type": "code",
   "execution_count": 71,
   "metadata": {},
   "outputs": [
    {
     "name": "stdout",
     "output_type": "stream",
     "text": [
      "Number of Test sentences:  8768\n",
      "Number of Wrongly Classified sentences:  1808\n"
     ]
    }
   ],
   "source": [
    "print(\"Number of Test sentences: \", len(test_labels))\n",
    "print(\"Number of Wrongly Classified sentences: \", len(indices))"
   ]
  },
  {
   "cell_type": "code",
   "execution_count": null,
   "metadata": {},
   "outputs": [],
   "source": [
    "# Saving data for error analysis\n",
    "import nltk\n",
    "csv_pl = open(\"C:\\\\Project_NLP_Final\\\\Project Dataset\\\\Error Analysis\\\\Wrong Sentences.txt\",\"w\", encoding=\"utf8\", newline='')\n",
    "\n",
    "writer = csv.writer(csv_pl, delimiter=',', quotechar = '\"')\n",
    "\n",
    "for i in indices:\n",
    "    sent = list()\n",
    "    for w in X_te[i]:\n",
    "        sent.append(words[w-1])\n",
    "    pos_tag = [pos[1] for pos in nltk.pos_tag(sent)]\n",
    "    p = model.predict(np.array([X_te[i]]))\n",
    "    p = np.argmax(p, axis=-1)\n",
    "    true = np.argmax(y_te[i], -1)\n",
    "    writer.writerow([words[w-1] for w in X_te[i]])\n",
    "    writer.writerow(pos_tag)\n",
    "    writer.writerow([tags[t] for t in true])\n",
    "    writer.writerow([tags[pred] for pred in p[0]])\n",
    "    writer.writerow([])\n",
    "csv_pl.close()"
   ]
  },
  {
   "cell_type": "code",
   "execution_count": null,
   "metadata": {},
   "outputs": [],
   "source": [
    "csv_pl = open(\"C:\\\\Project_NLP_Final\\\\Project Dataset\\\\Error Analysis\\\\System Predicted Less.txt\",\"a\", encoding=\"utf8\", newline='')\n",
    "csv_pm = open(\"C:\\\\Project_NLP_Final\\\\Project Dataset\\\\Error Analysis\\\\System Predicted More.txt\",\"a\", encoding=\"utf8\", newline='')\n",
    "csv_w = open(\"C:\\\\Project_NLP_Final\\\\Project Dataset\\\\Error Analysis\\\\System Predicted Wrongly But Identified NE.txt\",\"a\", encoding=\"utf8\", newline='')\n",
    "csv_ml = open(\"C:\\\\Project_NLP_Final\\\\Project Dataset\\\\Error Analysis\\\\System Predicted More and Less.txt\",\"a\", encoding=\"utf8\", newline='')\n",
    "csv_mw = open(\"C:\\\\Project_NLP_Final\\\\Project Dataset\\\\Error Analysis\\\\Project Dataset\\\\Error\\\\System Predicted More and Wrongly.txt\",\"a\", encoding=\"utf8\", newline='')\n",
    "csv_lw = open(\"C:\\\\Project_NLP_Final\\\\Project Dataset\\\\Error Analysis\\\\System Predicted Less and Wrongly.txt\",\"a\", encoding=\"utf8\", newline='')\n",
    "writer_pl = csv.writer(csv_pl, delimiter=',', quotechar = '\"')\n",
    "writer_pm = csv.writer(csv_pm, delimiter=',', quotechar = '\"')\n",
    "writer_w = csv.writer(csv_w, delimiter=',', quotechar = '\"')\n",
    "writer_ml = csv.writer(csv_ml, delimiter=',', quotechar = '\"')\n",
    "writer_mw = csv.writer(csv_mw, delimiter=',', quotechar = '\"')\n",
    "writer_lw = csv.writer(csv_lw, delimiter=',', quotechar = '\"')\n",
    "count = 0\n",
    "for i in indices:\n",
    "    p = model.predict(np.array([X_te[i]]))\n",
    "    p = np.argmax(p, axis=-1)\n",
    "    sent = list()\n",
    "    for w in X_te[i]:\n",
    "        sent.append(words[w-1])\n",
    "    pos_tag = [pos[1] for pos in nltk.pos_tag(sent)]\n",
    "    true = np.argmax(y_te[i], -1)\n",
    "    flag = 0\n",
    "    #print(flag, count)\n",
    "    for w, t, pred in zip(X_te[i], true, p[0]):\n",
    "        if t == pred:\n",
    "            continue\n",
    "        if(t != pred and t == tag2idx['O'] and pred != tag2idx['O'] and flag == 0):\n",
    "            # Predicted More\n",
    "            flag = 1\n",
    "        if(t != pred and t != tag2idx['O'] and pred == tag2idx['O'] and flag == 0):\n",
    "            # Predicted Less\n",
    "            flag = 2\n",
    "        if(t != pred and t != tag2idx['O'] and pred != tag2idx['O'] and flag == 0):\n",
    "            # Predicted Wrongly\n",
    "            flag = 3\n",
    "        if(t != pred and ((t != tag2idx['O'] and pred == tag2idx['O'] and flag == 1) or (t == tag2idx['O'] and pred != tag2idx['O'] and flag == 2))):\n",
    "            # More and Less\n",
    "            flag = 4\n",
    "        if(t != pred and ((t == tag2idx['O'] and pred != tag2idx['O'] and flag == 3) or (t != tag2idx['O'] and pred != tag2idx['O'] and flag == 1))):\n",
    "            # More and Wrongly\n",
    "            flag = 5\n",
    "        if(t != pred and ((t != tag2idx['O'] and pred == tag2idx['O'] and flag == 3) or (t != tag2idx['O'] and pred != tag2idx['O'] and flag == 2))):\n",
    "            # Less and Wrongly\n",
    "            flag = 6\n",
    "    if flag == 1:\n",
    "        count += 1\n",
    "        writer_pm.writerow([words[w-1] for w in X_te[i]])\n",
    "        writer_pm.writerow(pos_tag)\n",
    "        writer_pm.writerow([tags[t] for t in true])\n",
    "        writer_pm.writerow([tags[pred] for pred in p[0]])\n",
    "        writer_pm.writerow([])\n",
    "    elif flag == 2:\n",
    "        count += 1\n",
    "        writer_pl.writerow([words[w-1] for w in X_te[i]])\n",
    "        writer_pl.writerow(pos_tag)\n",
    "        writer_pl.writerow([tags[t] for t in true])\n",
    "        writer_pl.writerow([tags[pred] for pred in p[0]])\n",
    "        writer_pl.writerow([])\n",
    "    elif flag == 3:\n",
    "        count += 1\n",
    "        writer_w.writerow([words[w-1] for w in X_te[i]])\n",
    "        writer_w.writerow(pos_tag)\n",
    "        writer_w.writerow([tags[t] for t in true])\n",
    "        writer_w.writerow([tags[pred] for pred in p[0]])\n",
    "        writer_w.writerow([])\n",
    "    elif flag == 4:\n",
    "        count += 1\n",
    "        writer_ml.writerow([words[w-1] for w in X_te[i]])\n",
    "        writer_ml.writerow(pos_tag)\n",
    "        writer_ml.writerow([tags[t] for t in true])\n",
    "        writer_ml.writerow([tags[pred] for pred in p[0]])\n",
    "        writer_ml.writerow([])\n",
    "    elif flag == 5:\n",
    "        count += 1\n",
    "        writer_mw.writerow([words[w-1] for w in X_te[i]])\n",
    "        writer_mw.writerow(pos_tag)\n",
    "        writer_mw.writerow([tags[t] for t in true])\n",
    "        writer_mw.writerow([tags[pred] for pred in p[0]])\n",
    "        writer_mw.writerow([])\n",
    "    elif flag == 6:\n",
    "        count += 1\n",
    "        writer_lw.writerow([words[w-1] for w in X_te[i]])\n",
    "        writer_lw.writerow(pos_tag)\n",
    "        writer_lw.writerow([tags[t] for t in true])\n",
    "        writer_lw.writerow([tags[pred] for pred in p[0]])\n",
    "        writer_lw.writerow([])\n",
    "\n",
    "csv_pl.close()\n",
    "csv_pm.close()\n",
    "csv_w.close()\n",
    "csv_ml.close()\n",
    "csv_mw.close()\n",
    "csv_lw.close()"
   ]
  }
 ],
 "metadata": {
  "kernelspec": {
   "display_name": "Python 3",
   "language": "python",
   "name": "python3"
  },
  "language_info": {
   "codemirror_mode": {
    "name": "ipython",
    "version": 3
   },
   "file_extension": ".py",
   "mimetype": "text/x-python",
   "name": "python",
   "nbconvert_exporter": "python",
   "pygments_lexer": "ipython3",
   "version": "3.6.7"
  }
 },
 "nbformat": 4,
 "nbformat_minor": 2
}
