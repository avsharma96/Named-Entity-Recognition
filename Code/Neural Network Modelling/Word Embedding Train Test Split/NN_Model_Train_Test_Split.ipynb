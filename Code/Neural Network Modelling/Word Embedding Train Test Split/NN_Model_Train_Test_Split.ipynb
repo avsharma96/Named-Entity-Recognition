{
 "cells": [
  {
   "cell_type": "markdown",
   "metadata": {},
   "source": [
    "## Neural Network Modelling for NER using Self-Trained Word Embeddings with train-test split\n",
    "\n",
    "#### Input Files:\n",
    "#### Corpus_Sentences, Corpus_Sentences_Tags Corpus_POS_Tags, word_pos_vect_PubMed.csv\n",
    "#### Output Files:\n",
    "#### Corpus_Sentences_Test, Corpus_Sentences_Tags_Test, Corpus_POS_Tags_Test"
   ]
  },
  {
   "cell_type": "code",
   "execution_count": 1,
   "metadata": {},
   "outputs": [],
   "source": [
    "import numpy as np\n",
    "import pandas as pd\n",
    "import csv"
   ]
  },
  {
   "cell_type": "code",
   "execution_count": 2,
   "metadata": {},
   "outputs": [],
   "source": [
    "# Reading required Files\n",
    "list_of_sent_tags = list()\n",
    "list_of_sent_POS_tags = list()\n",
    "list_of_sent_words = list()\n",
    "with open(\"C:\\\\Project_NLP_Final\\\\Project Dataset\\\\PreProcessing\\\\Regex\\\\Corpus_Sentences.csv\",\"r\", encoding=\"utf8\") as csv_file:\n",
    "    csv_file = csv.reader(csv_file, delimiter=',', quotechar = '\"')\n",
    "    for row in csv_file:\n",
    "        list_of_sent_words.append(row)\n",
    "\n",
    "with open(\"C:\\\\Project_NLP_Final\\\\Project Dataset\\\\PreProcessing\\\\Regex\\\\Corpus_Sentences_Tags.csv\",\"r\", encoding=\"utf8\") as csv_file:\n",
    "    csv_file = csv.reader(csv_file, delimiter=',', quotechar = '\"')\n",
    "    for row in csv_file:\n",
    "        list_of_sent_tags.append(row)\n",
    "    \n",
    "with open(\"C:\\\\Project_NLP_Final\\\\Project Dataset\\\\PreProcessing\\\\Regex\\\\Corpus_POS_Tags.csv\",\"r\", encoding=\"utf8\") as csv_file:\n",
    "    csv_file = csv.reader(csv_file, delimiter=',', quotechar = '\"')\n",
    "    for row in csv_file:\n",
    "        list_of_sent_POS_tags.append(row)"
   ]
  },
  {
   "cell_type": "code",
   "execution_count": 3,
   "metadata": {},
   "outputs": [
    {
     "data": {
      "text/plain": [
       "['O', 'O', 'O', 'O', 'O', 'O', 'O', 'O']"
      ]
     },
     "execution_count": 3,
     "metadata": {},
     "output_type": "execute_result"
    }
   ],
   "source": [
    "list_of_sent_tags[0]"
   ]
  },
  {
   "cell_type": "code",
   "execution_count": 4,
   "metadata": {},
   "outputs": [
    {
     "data": {
      "text/plain": [
       "['hospital', 'patient', 'name', ',', 'name', 'name', 'acct', '.']"
      ]
     },
     "execution_count": 4,
     "metadata": {},
     "output_type": "execute_result"
    }
   ],
   "source": [
    "list_of_sent_words[0]"
   ]
  },
  {
   "cell_type": "code",
   "execution_count": 5,
   "metadata": {},
   "outputs": [
    {
     "data": {
      "text/plain": [
       "['NNP', 'NNP', 'NNP', ',', 'NNP', 'NNP', 'NNP', '.']"
      ]
     },
     "execution_count": 5,
     "metadata": {},
     "output_type": "execute_result"
    }
   ],
   "source": [
    "list_of_sent_POS_tags[0]"
   ]
  },
  {
   "cell_type": "code",
   "execution_count": 6,
   "metadata": {},
   "outputs": [
    {
     "data": {
      "text/html": [
       "<div>\n",
       "<table border=\"1\" class=\"dataframe\">\n",
       "  <thead>\n",
       "    <tr style=\"text-align: right;\">\n",
       "      <th></th>\n",
       "      <th>Sentence #</th>\n",
       "      <th>Word</th>\n",
       "      <th>POS</th>\n",
       "      <th>Tag</th>\n",
       "    </tr>\n",
       "  </thead>\n",
       "  <tbody>\n",
       "    <tr>\n",
       "      <th>730447</th>\n",
       "      <td>Sentence: 51972</td>\n",
       "      <td>signed</td>\n",
       "      <td>NNP</td>\n",
       "      <td>O</td>\n",
       "    </tr>\n",
       "    <tr>\n",
       "      <th>730448</th>\n",
       "      <td>Sentence: 51972</td>\n",
       "      <td>by</td>\n",
       "      <td>IN</td>\n",
       "      <td>O</td>\n",
       "    </tr>\n",
       "    <tr>\n",
       "      <th>730449</th>\n",
       "      <td>Sentence: 51972</td>\n",
       "      <td>name</td>\n",
       "      <td>NNP</td>\n",
       "      <td>O</td>\n",
       "    </tr>\n",
       "    <tr>\n",
       "      <th>730450</th>\n",
       "      <td>Sentence: 51972</td>\n",
       "      <td>name</td>\n",
       "      <td>NNP</td>\n",
       "      <td>O</td>\n",
       "    </tr>\n",
       "    <tr>\n",
       "      <th>730451</th>\n",
       "      <td>Sentence: 51972</td>\n",
       "      <td>name</td>\n",
       "      <td>NNP</td>\n",
       "      <td>O</td>\n",
       "    </tr>\n",
       "    <tr>\n",
       "      <th>730452</th>\n",
       "      <td>Sentence: 51972</td>\n",
       "      <td>,</td>\n",
       "      <td>,</td>\n",
       "      <td>O</td>\n",
       "    </tr>\n",
       "    <tr>\n",
       "      <th>730453</th>\n",
       "      <td>Sentence: 51972</td>\n",
       "      <td>md</td>\n",
       "      <td>NNP</td>\n",
       "      <td>O</td>\n",
       "    </tr>\n",
       "    <tr>\n",
       "      <th>730454</th>\n",
       "      <td>Sentence: 51972</td>\n",
       "      <td>date</td>\n",
       "      <td>NNP</td>\n",
       "      <td>O</td>\n",
       "    </tr>\n",
       "    <tr>\n",
       "      <th>730455</th>\n",
       "      <td>Sentence: 51972</td>\n",
       "      <td>14</td>\n",
       "      <td>CD</td>\n",
       "      <td>O</td>\n",
       "    </tr>\n",
       "    <tr>\n",
       "      <th>730456</th>\n",
       "      <td>Sentence: 51972</td>\n",
       "      <td>38</td>\n",
       "      <td>CD</td>\n",
       "      <td>O</td>\n",
       "    </tr>\n",
       "    <tr>\n",
       "      <th>730457</th>\n",
       "      <td>Sentence: 51972</td>\n",
       "      <td>d</td>\n",
       "      <td>NNP</td>\n",
       "      <td>O</td>\n",
       "    </tr>\n",
       "    <tr>\n",
       "      <th>730458</th>\n",
       "      <td>Sentence: 51972</td>\n",
       "      <td>date</td>\n",
       "      <td>NNP</td>\n",
       "      <td>O</td>\n",
       "    </tr>\n",
       "    <tr>\n",
       "      <th>730459</th>\n",
       "      <td>Sentence: 51972</td>\n",
       "      <td>t</td>\n",
       "      <td>NNP</td>\n",
       "      <td>O</td>\n",
       "    </tr>\n",
       "    <tr>\n",
       "      <th>730460</th>\n",
       "      <td>Sentence: 51972</td>\n",
       "      <td>date</td>\n",
       "      <td>NNP</td>\n",
       "      <td>O</td>\n",
       "    </tr>\n",
       "    <tr>\n",
       "      <th>730461</th>\n",
       "      <td>Sentence: 51972</td>\n",
       "      <td>9</td>\n",
       "      <td>CD</td>\n",
       "      <td>O</td>\n",
       "    </tr>\n",
       "    <tr>\n",
       "      <th>730462</th>\n",
       "      <td>Sentence: 51972</td>\n",
       "      <td>30</td>\n",
       "      <td>CD</td>\n",
       "      <td>O</td>\n",
       "    </tr>\n",
       "    <tr>\n",
       "      <th>730463</th>\n",
       "      <td>Sentence: 51972</td>\n",
       "      <td>p</td>\n",
       "      <td>NNP</td>\n",
       "      <td>O</td>\n",
       "    </tr>\n",
       "    <tr>\n",
       "      <th>730464</th>\n",
       "      <td>Sentence: 51972</td>\n",
       "      <td>fi</td>\n",
       "      <td>NNP</td>\n",
       "      <td>O</td>\n",
       "    </tr>\n",
       "    <tr>\n",
       "      <th>730465</th>\n",
       "      <td>Sentence: 51972</td>\n",
       "      <td>medical_record_number</td>\n",
       "      <td>NNP</td>\n",
       "      <td>O</td>\n",
       "    </tr>\n",
       "    <tr>\n",
       "      <th>730466</th>\n",
       "      <td>Sentence: 51972</td>\n",
       "      <td>cc</td>\n",
       "      <td>NN</td>\n",
       "      <td>O</td>\n",
       "    </tr>\n",
       "  </tbody>\n",
       "</table>\n",
       "</div>"
      ],
      "text/plain": [
       "             Sentence #                   Word  POS Tag\n",
       "730447  Sentence: 51972                 signed  NNP   O\n",
       "730448  Sentence: 51972                     by   IN   O\n",
       "730449  Sentence: 51972                   name  NNP   O\n",
       "730450  Sentence: 51972                   name  NNP   O\n",
       "730451  Sentence: 51972                   name  NNP   O\n",
       "730452  Sentence: 51972                      ,    ,   O\n",
       "730453  Sentence: 51972                     md  NNP   O\n",
       "730454  Sentence: 51972                   date  NNP   O\n",
       "730455  Sentence: 51972                     14   CD   O\n",
       "730456  Sentence: 51972                     38   CD   O\n",
       "730457  Sentence: 51972                      d  NNP   O\n",
       "730458  Sentence: 51972                   date  NNP   O\n",
       "730459  Sentence: 51972                      t  NNP   O\n",
       "730460  Sentence: 51972                   date  NNP   O\n",
       "730461  Sentence: 51972                      9   CD   O\n",
       "730462  Sentence: 51972                     30   CD   O\n",
       "730463  Sentence: 51972                      p  NNP   O\n",
       "730464  Sentence: 51972                     fi  NNP   O\n",
       "730465  Sentence: 51972  medical_record_number  NNP   O\n",
       "730466  Sentence: 51972                     cc   NN   O"
      ]
     },
     "execution_count": 6,
     "metadata": {},
     "output_type": "execute_result"
    }
   ],
   "source": [
    "req_list = [[\"Sentence: \" + str(i + 1), word, POS, tag] for i, (sent, POS_sent, tag_sent) in enumerate(zip(list_of_sent_words, list_of_sent_POS_tags, list_of_sent_tags)) for word, POS, tag in zip(sent, POS_sent, tag_sent)]\n",
    "data = pd.DataFrame(req_list, columns = [\"Sentence #\", \"Word\", \"POS\", \"Tag\"])\n",
    "data.tail(20)"
   ]
  },
  {
   "cell_type": "code",
   "execution_count": 17,
   "metadata": {},
   "outputs": [
    {
     "data": {
      "text/plain": [
       "13455"
      ]
     },
     "execution_count": 17,
     "metadata": {},
     "output_type": "execute_result"
    }
   ],
   "source": [
    "words = list(set(data[\"Word\"].values))\n",
    "words = sorted(words)\n",
    "words.append(\"endpad\")\n",
    "n_words = len(words); n_words"
   ]
  },
  {
   "cell_type": "code",
   "execution_count": 18,
   "metadata": {},
   "outputs": [
    {
     "data": {
      "text/plain": [
       "21"
      ]
     },
     "execution_count": 18,
     "metadata": {},
     "output_type": "execute_result"
    }
   ],
   "source": [
    "tags = list(set(data[\"Tag\"].values))\n",
    "tags = sorted(tags)\n",
    "n_tags = len(tags); n_tags"
   ]
  },
  {
   "cell_type": "code",
   "execution_count": 19,
   "metadata": {},
   "outputs": [],
   "source": [
    "class SentenceGetter(object):\n",
    "    \n",
    "    def __init__(self, data):\n",
    "        self.n_sent = 1\n",
    "        self.data = data\n",
    "        self.empty = False\n",
    "        agg_func = lambda s: [(w, p, t) for w, p, t in zip(s[\"Word\"].values.tolist(),\n",
    "                                                           s[\"POS\"].values.tolist(),\n",
    "                                                           s[\"Tag\"].values.tolist())]\n",
    "        self.grouped = self.data.groupby(\"Sentence #\").apply(agg_func)\n",
    "        self.sentences = [s for s in self.grouped]\n",
    "    \n",
    "    def get_next(self):\n",
    "        try:\n",
    "            s = self.grouped[\"Sentence: {}\".format(self.n_sent)]\n",
    "            self.n_sent += 1\n",
    "            return s\n",
    "        except:\n",
    "            return None"
   ]
  },
  {
   "cell_type": "code",
   "execution_count": 20,
   "metadata": {},
   "outputs": [],
   "source": [
    "getter = SentenceGetter(data)"
   ]
  },
  {
   "cell_type": "code",
   "execution_count": 21,
   "metadata": {},
   "outputs": [],
   "source": [
    "sent = getter.get_next()"
   ]
  },
  {
   "cell_type": "code",
   "execution_count": 22,
   "metadata": {},
   "outputs": [
    {
     "name": "stdout",
     "output_type": "stream",
     "text": [
      "[('hospital', 'NNP', 'O'), ('patient', 'NNP', 'O'), ('name', 'NNP', 'O'), (',', ',', 'O'), ('name', 'NNP', 'O'), ('name', 'NNP', 'O'), ('acct', 'NNP', 'O'), ('.', '.', 'O')]\n"
     ]
    }
   ],
   "source": [
    "print(sent)"
   ]
  },
  {
   "cell_type": "code",
   "execution_count": 23,
   "metadata": {},
   "outputs": [],
   "source": [
    "sentences = getter.sentences"
   ]
  },
  {
   "cell_type": "code",
   "execution_count": 24,
   "metadata": {},
   "outputs": [],
   "source": [
    "max_len = 75\n",
    "word2idx = {w: i + 1 for i, w in enumerate(words)}\n",
    "tag2idx = {t: i for i, t in enumerate(tags)}"
   ]
  },
  {
   "cell_type": "code",
   "execution_count": 25,
   "metadata": {
    "scrolled": true
   },
   "outputs": [
    {
     "data": {
      "text/plain": [
       "13090"
      ]
     },
     "execution_count": 25,
     "metadata": {},
     "output_type": "execute_result"
    }
   ],
   "source": [
    "word2idx[\"vicodin\"]"
   ]
  },
  {
   "cell_type": "code",
   "execution_count": 26,
   "metadata": {},
   "outputs": [
    {
     "data": {
      "text/plain": [
       "2"
      ]
     },
     "execution_count": 26,
     "metadata": {},
     "output_type": "execute_result"
    }
   ],
   "source": [
    "tag2idx[\"B-Drug\"]"
   ]
  },
  {
   "cell_type": "code",
   "execution_count": 27,
   "metadata": {},
   "outputs": [
    {
     "name": "stderr",
     "output_type": "stream",
     "text": [
      "Using TensorFlow backend.\n"
     ]
    }
   ],
   "source": [
    "# Converting all the data to keras readable format\n",
    "from keras.preprocessing.sequence import pad_sequences\n",
    "X = [[word2idx[w[0]] for w in s] for s in sentences]"
   ]
  },
  {
   "cell_type": "code",
   "execution_count": 28,
   "metadata": {},
   "outputs": [],
   "source": [
    "X = pad_sequences(maxlen=max_len, sequences=X, padding=\"post\", value=n_words)"
   ]
  },
  {
   "cell_type": "code",
   "execution_count": 29,
   "metadata": {},
   "outputs": [],
   "source": [
    "y = [[tag2idx[w[2]] for w in s] for s in sentences]"
   ]
  },
  {
   "cell_type": "code",
   "execution_count": 30,
   "metadata": {},
   "outputs": [],
   "source": [
    "y = pad_sequences(maxlen=max_len, sequences=y, padding=\"post\", value=tag2idx[\"O\"])"
   ]
  },
  {
   "cell_type": "code",
   "execution_count": 31,
   "metadata": {},
   "outputs": [],
   "source": [
    "from keras.utils import to_categorical"
   ]
  },
  {
   "cell_type": "code",
   "execution_count": 32,
   "metadata": {},
   "outputs": [],
   "source": [
    "# Need to do this step for CRF\n",
    "y = [to_categorical(i, num_classes=n_tags) for i in y]"
   ]
  },
  {
   "cell_type": "code",
   "execution_count": 33,
   "metadata": {},
   "outputs": [],
   "source": [
    "from sklearn.model_selection import train_test_split"
   ]
  },
  {
   "cell_type": "code",
   "execution_count": 34,
   "metadata": {},
   "outputs": [],
   "source": [
    "# Performing Train-Test split with test size of 0.2\n",
    "X_tr, X_te, y_tr, y_te = train_test_split(X, y, test_size=0.2)"
   ]
  },
  {
   "cell_type": "code",
   "execution_count": 35,
   "metadata": {},
   "outputs": [],
   "source": [
    "from keras.models import Model, Input\n",
    "from keras.layers import LSTM, Embedding, Dense, TimeDistributed, Dropout, Bidirectional\n",
    "from keras_contrib.layers import CRF"
   ]
  },
  {
   "cell_type": "code",
   "execution_count": 40,
   "metadata": {},
   "outputs": [],
   "source": [
    "# Neural Network Modelling\n",
    "input = Input(shape=(max_len,))\n",
    "model = Embedding(input_dim=n_words + 1, output_dim=100,\n",
    "                  input_length=max_len, mask_zero=True)(input)  # 20-dim embedding\n",
    "model = Bidirectional(LSTM(units=150, return_sequences=True,\n",
    "                           recurrent_dropout=0.4))(model)  # variational biLSTM\n",
    "model = TimeDistributed(Dense(50, activation=\"relu\"))(model)  # a dense layer as suggested by neuralNer\n",
    "crf = CRF(n_tags)  # CRF layer\n",
    "out = crf(model)  # output"
   ]
  },
  {
   "cell_type": "code",
   "execution_count": 41,
   "metadata": {},
   "outputs": [],
   "source": [
    "model = Model(input, out)"
   ]
  },
  {
   "cell_type": "code",
   "execution_count": 42,
   "metadata": {},
   "outputs": [],
   "source": [
    "model.compile(optimizer=\"adam\", loss=crf.loss_function, metrics=[crf.accuracy])"
   ]
  },
  {
   "cell_type": "code",
   "execution_count": 43,
   "metadata": {},
   "outputs": [
    {
     "name": "stdout",
     "output_type": "stream",
     "text": [
      "_________________________________________________________________\n",
      "Layer (type)                 Output Shape              Param #   \n",
      "=================================================================\n",
      "input_2 (InputLayer)         (None, 75)                0         \n",
      "_________________________________________________________________\n",
      "embedding_2 (Embedding)      (None, 75, 100)           1345600   \n",
      "_________________________________________________________________\n",
      "bidirectional_2 (Bidirection (None, 75, 300)           301200    \n",
      "_________________________________________________________________\n",
      "time_distributed_2 (TimeDist (None, 75, 50)            15050     \n",
      "_________________________________________________________________\n",
      "crf_2 (CRF)                  (None, 75, 21)            1554      \n",
      "=================================================================\n",
      "Total params: 1,663,404\n",
      "Trainable params: 1,663,404\n",
      "Non-trainable params: 0\n",
      "_________________________________________________________________\n"
     ]
    }
   ],
   "source": [
    "model.summary()"
   ]
  },
  {
   "cell_type": "code",
   "execution_count": 44,
   "metadata": {
    "scrolled": true
   },
   "outputs": [
    {
     "name": "stdout",
     "output_type": "stream",
     "text": [
      "Train on 33261 samples, validate on 8316 samples\n",
      "Epoch 1/8\n",
      "33261/33261 [==============================] - 796s 24ms/step - loss: 0.1166 - acc: 0.9728 - val_loss: 0.0439 - val_acc: 0.9867\n",
      "Epoch 2/8\n",
      "33261/33261 [==============================] - 785s 24ms/step - loss: 0.0323 - acc: 0.9890 - val_loss: 0.0248 - val_acc: 0.9905\n",
      "Epoch 3/8\n",
      "33261/33261 [==============================] - 783s 24ms/step - loss: 0.0189 - acc: 0.9922 - val_loss: 0.0192 - val_acc: 0.9918\n",
      "Epoch 4/8\n",
      "33261/33261 [==============================] - 753s 23ms/step - loss: 0.0134 - acc: 0.9938 - val_loss: 0.0166 - val_acc: 0.9921\n",
      "Epoch 5/8\n",
      "33261/33261 [==============================] - 771s 23ms/step - loss: 0.0105 - acc: 0.9946 - val_loss: 0.0159 - val_acc: 0.9920\n",
      "Epoch 6/8\n",
      "33261/33261 [==============================] - 741s 22ms/step - loss: 0.0085 - acc: 0.9953 - val_loss: 0.0150 - val_acc: 0.9921\n",
      "Epoch 7/8\n",
      "33261/33261 [==============================] - 739s 22ms/step - loss: 0.0072 - acc: 0.9959 - val_loss: 0.0151 - val_acc: 0.9919\n",
      "Epoch 8/8\n",
      "33261/33261 [==============================] - 807s 24ms/step - loss: 0.0061 - acc: 0.9964 - val_loss: 0.0154 - val_acc: 0.9924\n"
     ]
    }
   ],
   "source": [
    "from keras.callbacks import CSVLogger\n",
    "\n",
    "csv_logger = CSVLogger(\"C:\\\\Project_NLP_Final\\\\Project Dataset\\\\Saved Models\\\\Word Embedding Train Test Split\\\\training_tt.log\", separator=',', append=False)\n",
    "history = model.fit(X_tr, np.array(y_tr), batch_size=31, epochs=20,\n",
    "                    validation_split=0.2, verbose=1, callbacks=[csv_logger])"
   ]
  },
  {
   "cell_type": "code",
   "execution_count": 45,
   "metadata": {},
   "outputs": [],
   "source": [
    "import pandas as pd\n",
    "# log_data = history.history\n",
    "log_data = pd.read_csv(\"C:\\\\Project_NLP_Final\\\\Project Dataset\\\\Saved Models\\\\Word Embedding Train Test Split\\\\training_tt.log\", sep=',', engine='python') "
   ]
  },
  {
   "cell_type": "code",
   "execution_count": 46,
   "metadata": {},
   "outputs": [],
   "source": [
    "from keras_contrib.utils import save_load_utils\n",
    "save_load_utils.save_all_weights(model,\"C:\\\\Project_NLP_Final\\\\Project Dataset\\\\Saved Models\\\\Word Embedding Train Test Split\\\\NN_model_tt.h5\")\n",
    "#model.save(\"C:\\\\Project_NLP_Final\\\\Project Dataset\\\\Saved Models\\\\Word Embedding Train Test Split\\\\NN_model_tt.h5\")  # creates a HDF5 file 'my_model.h5'"
   ]
  },
  {
   "cell_type": "code",
   "execution_count": 59,
   "metadata": {},
   "outputs": [],
   "source": [
    "from keras_contrib.utils import save_load_utils\n",
    "# returns a compiled model\n",
    "# identical to the previous one\n",
    "#del model\n",
    "\n",
    "save_load_utils.load_all_weights(model,\"C:\\\\Project_NLP_Final\\\\Project Dataset\\\\Saved Models\\\\Word Embedding Train Test Split\\\\NN_model_tt.h5\")\n",
    "#model = load_model(\"C:\\\\Project_NLP_Final\\\\Project Dataset\\\\Saved Models\\\\Word Embedding Train Test Split\\\\NN_model_tt.h5\", custom_objects={'CRF':CRF})"
   ]
  },
  {
   "cell_type": "code",
   "execution_count": 47,
   "metadata": {},
   "outputs": [],
   "source": [
    "hist = pd.DataFrame(log_data)"
   ]
  },
  {
   "cell_type": "code",
   "execution_count": 49,
   "metadata": {
    "scrolled": false
   },
   "outputs": [
    {
     "data": {
      "image/png": "[encoded data removed]",
      "text/plain": [
       "<Figure size 576x360 with 1 Axes>"
      ]
     },
     "metadata": {},
     "output_type": "display_data"
    }
   ],
   "source": [
    "import matplotlib.pyplot as plt\n",
    "acc = hist['acc']\n",
    "val_acc = hist['val_acc']\n",
    "epochs = range(1, len(acc) + 1)\n",
    "plt.style.use(\"ggplot\")\n",
    "plt.figure(figsize=(8,5))\n",
    "plt.plot(epochs, acc, 'bo', label='Training Acc')\n",
    "plt.plot(epochs, val_acc, 'b', label='Validation Acc')\n",
    "plt.title(\"Training and Validation Accuracy\")\n",
    "plt.legend()\n",
    "plt.show()"
   ]
  },
  {
   "cell_type": "code",
   "execution_count": 50,
   "metadata": {},
   "outputs": [
    {
     "data": {
      "image/png": "[encoded data removed]",
      "text/plain": [
       "<Figure size 576x360 with 1 Axes>"
      ]
     },
     "metadata": {},
     "output_type": "display_data"
    }
   ],
   "source": [
    "loss = hist['loss']\n",
    "val_loss = hist['val_loss']\n",
    "epochs = range(1, len(acc) + 1)\n",
    "plt.style.use(\"ggplot\")\n",
    "plt.figure(figsize=(8,5))\n",
    "plt.plot(epochs, loss, 'bo', label='Training Loss')\n",
    "plt.plot(epochs, val_loss, 'b', label='Validation Loss ')\n",
    "plt.title(\"Training and Validation Loss\")\n",
    "plt.legend()\n",
    "plt.show()"
   ]
  },
  {
   "cell_type": "code",
   "execution_count": 51,
   "metadata": {},
   "outputs": [],
   "source": [
    "from seqeval.metrics import precision_score, recall_score, f1_score, classification_report"
   ]
  },
  {
   "cell_type": "code",
   "execution_count": 60,
   "metadata": {},
   "outputs": [
    {
     "name": "stdout",
     "output_type": "stream",
     "text": [
      "10395/10395 [==============================] - 67s 6ms/step\n"
     ]
    }
   ],
   "source": [
    "# Predicting on the testing data\n",
    "test_pred = model.predict(X_te, verbose=1)"
   ]
  },
  {
   "cell_type": "code",
   "execution_count": 61,
   "metadata": {},
   "outputs": [],
   "source": [
    "idx2tag = {i: w for w, i in tag2idx.items()}\n",
    "\n",
    "def pred2label(pred):\n",
    "    out = []\n",
    "    for pred_i in pred:\n",
    "        out_i = []\n",
    "        for p in pred_i:\n",
    "            p_i = np.argmax(p)\n",
    "            out_i.append(idx2tag[p_i].replace(\"PAD\", \"O\"))\n",
    "        out.append(out_i)\n",
    "    return out\n",
    "    \n",
    "pred_labels = pred2label(test_pred)\n",
    "test_labels = pred2label(y_te)\n",
    "indices = [i for i, v in enumerate(pred_labels) if test_labels[i] != pred_labels[i]]"
   ]
  },
  {
   "cell_type": "code",
   "execution_count": 67,
   "metadata": {},
   "outputs": [],
   "source": [
    "f1_score(test_labels, pred_labels, average='weighted')"
   ]
  },
  {
   "cell_type": "code",
   "execution_count": 68,
   "metadata": {},
   "outputs": [],
   "source": [
    "f1_score(test_labels, pred_labels, average='micro')"
   ]
  },
  {
   "cell_type": "code",
   "execution_count": 69,
   "metadata": {},
   "outputs": [],
   "source": [
    "f1_score(test_labels, pred_labels, average='macro')"
   ]
  },
  {
   "cell_type": "code",
   "execution_count": 70,
   "metadata": {},
   "outputs": [],
   "source": [
    "print(classification_report(test_labels, pred_labels))"
   ]
  },
  {
   "cell_type": "code",
   "execution_count": 71,
   "metadata": {},
   "outputs": [],
   "source": [
    "print(\"Number of Wrongly Classified sentences: \", len(indices))"
   ]
  },
  {
   "cell_type": "code",
   "execution_count": 44,
   "metadata": {},
   "outputs": [],
   "source": [
    "import nltk\n",
    "\n",
    "csv_pl = open(\"C:\\\\Project_NLP_Final\\\\Project Dataset\\\\Error Analysis\\\\Wrong Sentences.txt\",\"w\", encoding=\"utf8\", newline='')\n",
    "\n",
    "writer = csv.writer(csv_pl, delimiter=',', quotechar = '\"')\n",
    "\n",
    "for i in indices:\n",
    "    sent = list()\n",
    "    for w in X_te[i]:\n",
    "        sent.append(words[w-1])\n",
    "    pos_tag = [pos[1] for pos in nltk.pos_tag(sent)]\n",
    "    p = model.predict(np.array([X_te[i]]))\n",
    "    p = np.argmax(p, axis=-1)\n",
    "    true = np.argmax(y_te[i], -1)\n",
    "    writer.writerow([words[w-1] for w in X_te[i]])\n",
    "    writer.writerow(pos_tag)\n",
    "    writer.writerow([tags[t] for t in true])\n",
    "    writer.writerow([tags[pred] for pred in p[0]])\n",
    "    writer.writerow([])\n",
    "csv_pl.close()"
   ]
  },
  {
   "cell_type": "code",
   "execution_count": 47,
   "metadata": {},
   "outputs": [],
   "source": [
    "csv_pl = open(\"C:\\\\Project_NLP_Final\\\\Project Dataset\\\\Error Analysis\\\\System Predicted Less.txt\",\"a\", encoding=\"utf8\", newline='')\n",
    "csv_pm = open(\"C:\\\\Project_NLP_Final\\\\Project Dataset\\\\Error Analysis\\\\System Predicted More.txt\",\"a\", encoding=\"utf8\", newline='')\n",
    "csv_w = open(\"C:\\\\Project_NLP_Final\\\\Project Dataset\\\\Error Analysis\\\\System Predicted Wrongly But Identified NE.txt\",\"a\", encoding=\"utf8\", newline='')\n",
    "csv_ml = open(\"C:\\\\Project_NLP_Final\\\\Project Dataset\\\\Error Analysis\\\\System Predicted More and Less.txt\",\"a\", encoding=\"utf8\", newline='')\n",
    "csv_mw = open(\"C:\\\\Project_NLP_Final\\\\Project Dataset\\\\Error Analysis\\\\System Predicted More and Wrongly.txt\",\"a\", encoding=\"utf8\", newline='')\n",
    "csv_lw = open(\"C:\\\\Project_NLP_Final\\\\Project Dataset\\\\Error Analysis\\\\System Predicted Less and Wrongly.txt\",\"a\", encoding=\"utf8\", newline='')\n",
    "writer_pl = csv.writer(csv_pl, delimiter=',', quotechar = '\"')\n",
    "writer_pm = csv.writer(csv_pm, delimiter=',', quotechar = '\"')\n",
    "writer_w = csv.writer(csv_w, delimiter=',', quotechar = '\"')\n",
    "writer_ml = csv.writer(csv_ml, delimiter=',', quotechar = '\"')\n",
    "writer_mw = csv.writer(csv_mw, delimiter=',', quotechar = '\"')\n",
    "writer_lw = csv.writer(csv_lw, delimiter=',', quotechar = '\"')\n",
    "count = 0\n",
    "for i in indices:\n",
    "    p = model.predict(np.array([X_te[i]]))\n",
    "    p = np.argmax(p, axis=-1)\n",
    "    sent = list()\n",
    "    for w in X_te[i]:\n",
    "        sent.append(words[w-1])\n",
    "    pos_tag = [pos[1] for pos in nltk.pos_tag(sent)]\n",
    "    true = np.argmax(y_te[i], -1)\n",
    "    flag = 0\n",
    "    #print(flag, count)\n",
    "    for w, t, pred in zip(X_te[i], true, p[0]):\n",
    "        if t == pred:\n",
    "            continue\n",
    "        if(t != pred and t == tag2idx['O'] and pred != tag2idx['O'] and flag == 0):\n",
    "            # Predicted More\n",
    "            flag = 1\n",
    "        if(t != pred and t != tag2idx['O'] and pred == tag2idx['O'] and flag == 0):\n",
    "            # Predicted Less\n",
    "            flag = 2\n",
    "        if(t != pred and t != tag2idx['O'] and pred != tag2idx['O'] and flag == 0):\n",
    "            # Predicted Wrongly\n",
    "            flag = 3\n",
    "        if(t != pred and ((t != tag2idx['O'] and pred == tag2idx['O'] and flag == 1) or (t == tag2idx['O'] and pred != tag2idx['O'] and flag == 2))):\n",
    "            # More and Less\n",
    "            flag = 4\n",
    "        if(t != pred and ((t == tag2idx['O'] and pred != tag2idx['O'] and flag == 3) or (t != tag2idx['O'] and pred != tag2idx['O'] and flag == 1))):\n",
    "            # More and Wrongly\n",
    "            flag = 5\n",
    "        if(t != pred and ((t != tag2idx['O'] and pred == tag2idx['O'] and flag == 3) or (t != tag2idx['O'] and pred != tag2idx['O'] and flag == 2))):\n",
    "            # Less and Wrongly\n",
    "            flag = 6\n",
    "    if flag == 1:\n",
    "        count += 1\n",
    "        writer_pm.writerow([words[w-1] for w in X_te[i]])\n",
    "        writer_pm.writerow(pos_tag)\n",
    "        writer_pm.writerow([tags[t] for t in true])\n",
    "        writer_pm.writerow([tags[pred] for pred in p[0]])\n",
    "        writer_pm.writerow([])\n",
    "    elif flag == 2:\n",
    "        count += 1\n",
    "        writer_pl.writerow([words[w-1] for w in X_te[i]])\n",
    "        writer_pl.writerow(pos_tag)\n",
    "        writer_pl.writerow([tags[t] for t in true])\n",
    "        writer_pl.writerow([tags[pred] for pred in p[0]])\n",
    "        writer_pl.writerow([])\n",
    "    elif flag == 3:\n",
    "        count += 1\n",
    "        writer_w.writerow([words[w-1] for w in X_te[i]])\n",
    "        writer_w.writerow(pos_tag)\n",
    "        writer_w.writerow([tags[t] for t in true])\n",
    "        writer_w.writerow([tags[pred] for pred in p[0]])\n",
    "        writer_w.writerow([])\n",
    "    elif flag == 4:\n",
    "        count += 1\n",
    "        writer_ml.writerow([words[w-1] for w in X_te[i]])\n",
    "        writer_ml.writerow(pos_tag)\n",
    "        writer_ml.writerow([tags[t] for t in true])\n",
    "        writer_ml.writerow([tags[pred] for pred in p[0]])\n",
    "        writer_ml.writerow([])\n",
    "    elif flag == 5:\n",
    "        count += 1\n",
    "        writer_mw.writerow([words[w-1] for w in X_te[i]])\n",
    "        writer_mw.writerow(pos_tag)\n",
    "        writer_mw.writerow([tags[t] for t in true])\n",
    "        writer_mw.writerow([tags[pred] for pred in p[0]])\n",
    "        writer_mw.writerow([])\n",
    "    elif flag == 6:\n",
    "        count += 1\n",
    "        writer_lw.writerow([words[w-1] for w in X_te[i]])\n",
    "        writer_lw.writerow(pos_tag)\n",
    "        writer_lw.writerow([tags[t] for t in true])\n",
    "        writer_lw.writerow([tags[pred] for pred in p[0]])\n",
    "        writer_lw.writerow([])\n",
    "\n",
    "csv_pl.close()\n",
    "csv_pm.close()\n",
    "csv_w.close()\n",
    "csv_ml.close()\n",
    "csv_mw.close()\n",
    "csv_lw.close()"
   ]
  }
 ],
 "metadata": {
  "kernelspec": {
   "display_name": "Python 3",
   "language": "python",
   "name": "python3"
  },
  "language_info": {
   "codemirror_mode": {
    "name": "ipython",
    "version": 3
   },
   "file_extension": ".py",
   "mimetype": "text/x-python",
   "name": "python",
   "nbconvert_exporter": "python",
   "pygments_lexer": "ipython3",
   "version": "3.6.7"
  }
 },
 "nbformat": 4,
 "nbformat_minor": 2
}
