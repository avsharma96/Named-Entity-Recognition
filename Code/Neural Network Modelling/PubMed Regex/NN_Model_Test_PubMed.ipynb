{
 "cells": [
  {
   "cell_type": "markdown",
   "metadata": {},
   "source": [
    "## Neural Network Modelling for NER using PubMed Pre-Trained Word Embeddings\n",
    "\n",
    "#### Input Files:\n",
    "#### Corpus_Sentences, Corpus_Sentences_Tags Corpus_POS_Tags, word_pos_vect_PubMed.csv\n",
    "#### Output Files:\n",
    "#### Corpus_Sentences_Test, Corpus_Sentences_Tags_Test, Corpus_POS_Tags_Test"
   ]
  },
  {
   "cell_type": "code",
   "execution_count": 1,
   "metadata": {
    "collapsed": true
   },
   "outputs": [],
   "source": [
    "import numpy as np\n",
    "import pandas as pd\n",
    "import csv\n",
    "from collections import defaultdict"
   ]
  },
  {
   "cell_type": "code",
   "execution_count": 2,
   "metadata": {
    "collapsed": true
   },
   "outputs": [],
   "source": [
    "# Reading required Files\n",
    "list_of_sent_tags = list()\n",
    "list_of_sent_POS_tags = list()\n",
    "list_of_sent_words = list()\n",
    "with open(\"C:\\\\Project_NLP_Final\\\\Project Dataset\\\\PreProcessing\\\\Regex\\\\Corpus_Sentences.csv\",\"r\", encoding=\"utf8\") as csv_file:\n",
    "    csv_file = csv.reader(csv_file, delimiter=',', quotechar = '\"')\n",
    "    for row in csv_file:\n",
    "        list_of_sent_words.append(row)\n",
    "\n",
    "with open(\"C:\\\\Project_NLP_Final\\\\Project Dataset\\\\PreProcessing\\\\Regex\\\\Corpus_Sentences_Tags.csv\",\"r\", encoding=\"utf8\") as csv_file:\n",
    "    csv_file = csv.reader(csv_file, delimiter=',', quotechar = '\"')\n",
    "    for row in csv_file:\n",
    "        list_of_sent_tags.append(row)\n",
    "    \n",
    "with open(\"C:\\\\Project_NLP_Final\\\\Project Dataset\\\\PreProcessing\\\\Regex\\\\Corpus_POS_Tags.csv\",\"r\", encoding=\"utf8\") as csv_file:\n",
    "    csv_file = csv.reader(csv_file, delimiter=',', quotechar = '\"')\n",
    "    for row in csv_file:\n",
    "        list_of_sent_POS_tags.append(row)"
   ]
  },
  {
   "cell_type": "code",
   "execution_count": 3,
   "metadata": {
    "collapsed": true
   },
   "outputs": [],
   "source": [
    "list_of_sent_tags_test = list()\n",
    "list_of_sent_POS_tags_test = list()\n",
    "list_of_sent_words_test = list()\n",
    "with open(\"C:\\\\Project_NLP_Final\\\\Project Dataset\\\\PreProcessing\\\\Regex\\\\Corpus_Sentences_Test.csv\",\"r\", encoding=\"utf8\") as csv_file:\n",
    "    csv_file = csv.reader(csv_file, delimiter=',', quotechar = '\"')\n",
    "    for row in csv_file:\n",
    "        list_of_sent_words_test.append(row)\n",
    "\n",
    "with open(\"C:\\\\Project_NLP_Final\\\\Project Dataset\\\\PreProcessing\\\\Regex\\\\Corpus_Sentences_Tags_Test.csv\",\"r\", encoding=\"utf8\") as csv_file:\n",
    "    csv_file = csv.reader(csv_file, delimiter=',', quotechar = '\"')\n",
    "    for row in csv_file:\n",
    "        list_of_sent_tags_test.append(row)\n",
    "    \n",
    "with open(\"C:\\\\Project_NLP_Final\\\\Project Dataset\\\\PreProcessing\\\\Regex\\\\Corpus_POS_Tags_Test.csv\",\"r\", encoding=\"utf8\") as csv_file:\n",
    "    csv_file = csv.reader(csv_file, delimiter=',', quotechar = '\"')\n",
    "    for row in csv_file:\n",
    "        list_of_sent_POS_tags_test.append(row)"
   ]
  },
  {
   "cell_type": "code",
   "execution_count": 4,
   "metadata": {
    "collapsed": true
   },
   "outputs": [],
   "source": [
    "new_sent_tags = list_of_sent_tags + list_of_sent_tags_test"
   ]
  },
  {
   "cell_type": "code",
   "execution_count": 5,
   "metadata": {
    "collapsed": true
   },
   "outputs": [],
   "source": [
    "new_sent_words = list_of_sent_words + list_of_sent_words_test"
   ]
  },
  {
   "cell_type": "code",
   "execution_count": 6,
   "metadata": {
    "collapsed": true
   },
   "outputs": [],
   "source": [
    "new_sent_POS_tags = list_of_sent_POS_tags + list_of_sent_POS_tags_test"
   ]
  },
  {
   "cell_type": "code",
   "execution_count": 7,
   "metadata": {},
   "outputs": [
    {
     "data": {
      "text/html": [
       "<div>\n",
       "<style>\n",
       "    .dataframe thead tr:only-child th {\n",
       "        text-align: right;\n",
       "    }\n",
       "\n",
       "    .dataframe thead th {\n",
       "        text-align: left;\n",
       "    }\n",
       "\n",
       "    .dataframe tbody tr th {\n",
       "        vertical-align: top;\n",
       "    }\n",
       "</style>\n",
       "<table border=\"1\" class=\"dataframe\">\n",
       "  <thead>\n",
       "    <tr style=\"text-align: right;\">\n",
       "      <th></th>\n",
       "      <th>Sentence #</th>\n",
       "      <th>Word</th>\n",
       "      <th>POS</th>\n",
       "      <th>Tag</th>\n",
       "    </tr>\n",
       "  </thead>\n",
       "  <tbody>\n",
       "    <tr>\n",
       "      <th>130083</th>\n",
       "      <td>Sentence: 8708</td>\n",
       "      <td>me</td>\n",
       "      <td>PRP</td>\n",
       "      <td>O</td>\n",
       "    </tr>\n",
       "    <tr>\n",
       "      <th>130084</th>\n",
       "      <td>Sentence: 8708</td>\n",
       "      <td>if</td>\n",
       "      <td>IN</td>\n",
       "      <td>O</td>\n",
       "    </tr>\n",
       "    <tr>\n",
       "      <th>130085</th>\n",
       "      <td>Sentence: 8708</td>\n",
       "      <td>the</td>\n",
       "      <td>DT</td>\n",
       "      <td>O</td>\n",
       "    </tr>\n",
       "    <tr>\n",
       "      <th>130086</th>\n",
       "      <td>Sentence: 8708</td>\n",
       "      <td>pain</td>\n",
       "      <td>NN</td>\n",
       "      <td>B-SSLIF</td>\n",
       "    </tr>\n",
       "    <tr>\n",
       "      <th>130087</th>\n",
       "      <td>Sentence: 8708</td>\n",
       "      <td>worsens</td>\n",
       "      <td>NNS</td>\n",
       "      <td>O</td>\n",
       "    </tr>\n",
       "    <tr>\n",
       "      <th>130088</th>\n",
       "      <td>Sentence: 8708</td>\n",
       "      <td>in</td>\n",
       "      <td>IN</td>\n",
       "      <td>O</td>\n",
       "    </tr>\n",
       "    <tr>\n",
       "      <th>130089</th>\n",
       "      <td>Sentence: 8708</td>\n",
       "      <td>the</td>\n",
       "      <td>DT</td>\n",
       "      <td>O</td>\n",
       "    </tr>\n",
       "    <tr>\n",
       "      <th>130090</th>\n",
       "      <td>Sentence: 8708</td>\n",
       "      <td>interim</td>\n",
       "      <td>NN</td>\n",
       "      <td>O</td>\n",
       "    </tr>\n",
       "    <tr>\n",
       "      <th>130091</th>\n",
       "      <td>Sentence: 8708</td>\n",
       "      <td>.</td>\n",
       "      <td>.</td>\n",
       "      <td>O</td>\n",
       "    </tr>\n",
       "    <tr>\n",
       "      <th>130092</th>\n",
       "      <td>Sentence: 8709</td>\n",
       "      <td>electronically</td>\n",
       "      <td>RB</td>\n",
       "      <td>O</td>\n",
       "    </tr>\n",
       "    <tr>\n",
       "      <th>130093</th>\n",
       "      <td>Sentence: 8709</td>\n",
       "      <td>signed</td>\n",
       "      <td>VBN</td>\n",
       "      <td>O</td>\n",
       "    </tr>\n",
       "    <tr>\n",
       "      <th>130094</th>\n",
       "      <td>Sentence: 8709</td>\n",
       "      <td>by</td>\n",
       "      <td>IN</td>\n",
       "      <td>O</td>\n",
       "    </tr>\n",
       "    <tr>\n",
       "      <th>130095</th>\n",
       "      <td>Sentence: 8709</td>\n",
       "      <td>name</td>\n",
       "      <td>NNP</td>\n",
       "      <td>O</td>\n",
       "    </tr>\n",
       "    <tr>\n",
       "      <th>130096</th>\n",
       "      <td>Sentence: 8709</td>\n",
       "      <td>name</td>\n",
       "      <td>NNP</td>\n",
       "      <td>O</td>\n",
       "    </tr>\n",
       "    <tr>\n",
       "      <th>130097</th>\n",
       "      <td>Sentence: 8709</td>\n",
       "      <td>m.d</td>\n",
       "      <td>NNP</td>\n",
       "      <td>O</td>\n",
       "    </tr>\n",
       "    <tr>\n",
       "      <th>130098</th>\n",
       "      <td>Sentence: 8709</td>\n",
       "      <td>date</td>\n",
       "      <td>NNP</td>\n",
       "      <td>O</td>\n",
       "    </tr>\n",
       "    <tr>\n",
       "      <th>130099</th>\n",
       "      <td>Sentence: 8709</td>\n",
       "      <td>7</td>\n",
       "      <td>CD</td>\n",
       "      <td>O</td>\n",
       "    </tr>\n",
       "    <tr>\n",
       "      <th>130100</th>\n",
       "      <td>Sentence: 8709</td>\n",
       "      <td>45pm</td>\n",
       "      <td>CD</td>\n",
       "      <td>O</td>\n",
       "    </tr>\n",
       "    <tr>\n",
       "      <th>130101</th>\n",
       "      <td>Sentence: 8709</td>\n",
       "      <td>est</td>\n",
       "      <td>NNP</td>\n",
       "      <td>O</td>\n",
       "    </tr>\n",
       "    <tr>\n",
       "      <th>130102</th>\n",
       "      <td>Sentence: 8709</td>\n",
       "      <td>author</td>\n",
       "      <td>NN</td>\n",
       "      <td>O</td>\n",
       "    </tr>\n",
       "  </tbody>\n",
       "</table>\n",
       "</div>"
      ],
      "text/plain": [
       "            Sentence #            Word  POS      Tag\n",
       "130083  Sentence: 8708              me  PRP        O\n",
       "130084  Sentence: 8708              if   IN        O\n",
       "130085  Sentence: 8708             the   DT        O\n",
       "130086  Sentence: 8708            pain   NN  B-SSLIF\n",
       "130087  Sentence: 8708         worsens  NNS        O\n",
       "130088  Sentence: 8708              in   IN        O\n",
       "130089  Sentence: 8708             the   DT        O\n",
       "130090  Sentence: 8708         interim   NN        O\n",
       "130091  Sentence: 8708               .    .        O\n",
       "130092  Sentence: 8709  electronically   RB        O\n",
       "130093  Sentence: 8709          signed  VBN        O\n",
       "130094  Sentence: 8709              by   IN        O\n",
       "130095  Sentence: 8709            name  NNP        O\n",
       "130096  Sentence: 8709            name  NNP        O\n",
       "130097  Sentence: 8709             m.d  NNP        O\n",
       "130098  Sentence: 8709            date  NNP        O\n",
       "130099  Sentence: 8709               7   CD        O\n",
       "130100  Sentence: 8709            45pm   CD        O\n",
       "130101  Sentence: 8709             est  NNP        O\n",
       "130102  Sentence: 8709          author   NN        O"
      ]
     },
     "execution_count": 7,
     "metadata": {},
     "output_type": "execute_result"
    }
   ],
   "source": [
    "req_list_test = [[\"Sentence: \" + str(i + 1), word, POS, tag] for i, (sent, POS_sent, tag_sent) in enumerate(zip(list_of_sent_words_test, list_of_sent_POS_tags_test, list_of_sent_tags_test)) for word, POS, tag in zip(sent, POS_sent, tag_sent)]\n",
    "data_test = pd.DataFrame(req_list_test, columns = [\"Sentence #\", \"Word\", \"POS\", \"Tag\"])\n",
    "data_test.tail(20)"
   ]
  },
  {
   "cell_type": "code",
   "execution_count": 8,
   "metadata": {},
   "outputs": [
    {
     "data": {
      "text/html": [
       "<div>\n",
       "<style>\n",
       "    .dataframe thead tr:only-child th {\n",
       "        text-align: right;\n",
       "    }\n",
       "\n",
       "    .dataframe thead th {\n",
       "        text-align: left;\n",
       "    }\n",
       "\n",
       "    .dataframe tbody tr th {\n",
       "        vertical-align: top;\n",
       "    }\n",
       "</style>\n",
       "<table border=\"1\" class=\"dataframe\">\n",
       "  <thead>\n",
       "    <tr style=\"text-align: right;\">\n",
       "      <th></th>\n",
       "      <th>Sentence #</th>\n",
       "      <th>Word</th>\n",
       "      <th>POS</th>\n",
       "      <th>Tag</th>\n",
       "    </tr>\n",
       "  </thead>\n",
       "  <tbody>\n",
       "    <tr>\n",
       "      <th>730447</th>\n",
       "      <td>Sentence: 51972</td>\n",
       "      <td>signed</td>\n",
       "      <td>NNP</td>\n",
       "      <td>O</td>\n",
       "    </tr>\n",
       "    <tr>\n",
       "      <th>730448</th>\n",
       "      <td>Sentence: 51972</td>\n",
       "      <td>by</td>\n",
       "      <td>IN</td>\n",
       "      <td>O</td>\n",
       "    </tr>\n",
       "    <tr>\n",
       "      <th>730449</th>\n",
       "      <td>Sentence: 51972</td>\n",
       "      <td>name</td>\n",
       "      <td>NNP</td>\n",
       "      <td>O</td>\n",
       "    </tr>\n",
       "    <tr>\n",
       "      <th>730450</th>\n",
       "      <td>Sentence: 51972</td>\n",
       "      <td>name</td>\n",
       "      <td>NNP</td>\n",
       "      <td>O</td>\n",
       "    </tr>\n",
       "    <tr>\n",
       "      <th>730451</th>\n",
       "      <td>Sentence: 51972</td>\n",
       "      <td>name</td>\n",
       "      <td>NNP</td>\n",
       "      <td>O</td>\n",
       "    </tr>\n",
       "    <tr>\n",
       "      <th>730452</th>\n",
       "      <td>Sentence: 51972</td>\n",
       "      <td>,</td>\n",
       "      <td>,</td>\n",
       "      <td>O</td>\n",
       "    </tr>\n",
       "    <tr>\n",
       "      <th>730453</th>\n",
       "      <td>Sentence: 51972</td>\n",
       "      <td>md</td>\n",
       "      <td>NNP</td>\n",
       "      <td>O</td>\n",
       "    </tr>\n",
       "    <tr>\n",
       "      <th>730454</th>\n",
       "      <td>Sentence: 51972</td>\n",
       "      <td>date</td>\n",
       "      <td>NNP</td>\n",
       "      <td>O</td>\n",
       "    </tr>\n",
       "    <tr>\n",
       "      <th>730455</th>\n",
       "      <td>Sentence: 51972</td>\n",
       "      <td>14</td>\n",
       "      <td>CD</td>\n",
       "      <td>O</td>\n",
       "    </tr>\n",
       "    <tr>\n",
       "      <th>730456</th>\n",
       "      <td>Sentence: 51972</td>\n",
       "      <td>38</td>\n",
       "      <td>CD</td>\n",
       "      <td>O</td>\n",
       "    </tr>\n",
       "    <tr>\n",
       "      <th>730457</th>\n",
       "      <td>Sentence: 51972</td>\n",
       "      <td>d</td>\n",
       "      <td>NNP</td>\n",
       "      <td>O</td>\n",
       "    </tr>\n",
       "    <tr>\n",
       "      <th>730458</th>\n",
       "      <td>Sentence: 51972</td>\n",
       "      <td>date</td>\n",
       "      <td>NNP</td>\n",
       "      <td>O</td>\n",
       "    </tr>\n",
       "    <tr>\n",
       "      <th>730459</th>\n",
       "      <td>Sentence: 51972</td>\n",
       "      <td>t</td>\n",
       "      <td>NNP</td>\n",
       "      <td>O</td>\n",
       "    </tr>\n",
       "    <tr>\n",
       "      <th>730460</th>\n",
       "      <td>Sentence: 51972</td>\n",
       "      <td>date</td>\n",
       "      <td>NNP</td>\n",
       "      <td>O</td>\n",
       "    </tr>\n",
       "    <tr>\n",
       "      <th>730461</th>\n",
       "      <td>Sentence: 51972</td>\n",
       "      <td>9</td>\n",
       "      <td>CD</td>\n",
       "      <td>O</td>\n",
       "    </tr>\n",
       "    <tr>\n",
       "      <th>730462</th>\n",
       "      <td>Sentence: 51972</td>\n",
       "      <td>30</td>\n",
       "      <td>CD</td>\n",
       "      <td>O</td>\n",
       "    </tr>\n",
       "    <tr>\n",
       "      <th>730463</th>\n",
       "      <td>Sentence: 51972</td>\n",
       "      <td>p</td>\n",
       "      <td>NNP</td>\n",
       "      <td>O</td>\n",
       "    </tr>\n",
       "    <tr>\n",
       "      <th>730464</th>\n",
       "      <td>Sentence: 51972</td>\n",
       "      <td>fi</td>\n",
       "      <td>NNP</td>\n",
       "      <td>O</td>\n",
       "    </tr>\n",
       "    <tr>\n",
       "      <th>730465</th>\n",
       "      <td>Sentence: 51972</td>\n",
       "      <td>medical_record_number</td>\n",
       "      <td>NNP</td>\n",
       "      <td>O</td>\n",
       "    </tr>\n",
       "    <tr>\n",
       "      <th>730466</th>\n",
       "      <td>Sentence: 51972</td>\n",
       "      <td>cc</td>\n",
       "      <td>NN</td>\n",
       "      <td>O</td>\n",
       "    </tr>\n",
       "  </tbody>\n",
       "</table>\n",
       "</div>"
      ],
      "text/plain": [
       "             Sentence #                   Word  POS Tag\n",
       "730447  Sentence: 51972                 signed  NNP   O\n",
       "730448  Sentence: 51972                     by   IN   O\n",
       "730449  Sentence: 51972                   name  NNP   O\n",
       "730450  Sentence: 51972                   name  NNP   O\n",
       "730451  Sentence: 51972                   name  NNP   O\n",
       "730452  Sentence: 51972                      ,    ,   O\n",
       "730453  Sentence: 51972                     md  NNP   O\n",
       "730454  Sentence: 51972                   date  NNP   O\n",
       "730455  Sentence: 51972                     14   CD   O\n",
       "730456  Sentence: 51972                     38   CD   O\n",
       "730457  Sentence: 51972                      d  NNP   O\n",
       "730458  Sentence: 51972                   date  NNP   O\n",
       "730459  Sentence: 51972                      t  NNP   O\n",
       "730460  Sentence: 51972                   date  NNP   O\n",
       "730461  Sentence: 51972                      9   CD   O\n",
       "730462  Sentence: 51972                     30   CD   O\n",
       "730463  Sentence: 51972                      p  NNP   O\n",
       "730464  Sentence: 51972                     fi  NNP   O\n",
       "730465  Sentence: 51972  medical_record_number  NNP   O\n",
       "730466  Sentence: 51972                     cc   NN   O"
      ]
     },
     "execution_count": 8,
     "metadata": {},
     "output_type": "execute_result"
    }
   ],
   "source": [
    "req_list_train = [[\"Sentence: \" + str(i + 1), word, POS, tag] for i, (sent, POS_sent, tag_sent) in enumerate(zip(list_of_sent_words, list_of_sent_POS_tags, list_of_sent_tags)) for word, POS, tag in zip(sent, POS_sent, tag_sent)]\n",
    "data_train = pd.DataFrame(req_list_train, columns = [\"Sentence #\", \"Word\", \"POS\", \"Tag\"])\n",
    "data_train.tail(20)"
   ]
  },
  {
   "cell_type": "code",
   "execution_count": 9,
   "metadata": {},
   "outputs": [
    {
     "data": {
      "text/html": [
       "<div>\n",
       "<style>\n",
       "    .dataframe thead tr:only-child th {\n",
       "        text-align: right;\n",
       "    }\n",
       "\n",
       "    .dataframe thead th {\n",
       "        text-align: left;\n",
       "    }\n",
       "\n",
       "    .dataframe tbody tr th {\n",
       "        vertical-align: top;\n",
       "    }\n",
       "</style>\n",
       "<table border=\"1\" class=\"dataframe\">\n",
       "  <thead>\n",
       "    <tr style=\"text-align: right;\">\n",
       "      <th></th>\n",
       "      <th>Sentence #</th>\n",
       "      <th>Word</th>\n",
       "      <th>POS</th>\n",
       "      <th>Tag</th>\n",
       "    </tr>\n",
       "  </thead>\n",
       "  <tbody>\n",
       "    <tr>\n",
       "      <th>860550</th>\n",
       "      <td>Sentence: 60680</td>\n",
       "      <td>me</td>\n",
       "      <td>PRP</td>\n",
       "      <td>O</td>\n",
       "    </tr>\n",
       "    <tr>\n",
       "      <th>860551</th>\n",
       "      <td>Sentence: 60680</td>\n",
       "      <td>if</td>\n",
       "      <td>IN</td>\n",
       "      <td>O</td>\n",
       "    </tr>\n",
       "    <tr>\n",
       "      <th>860552</th>\n",
       "      <td>Sentence: 60680</td>\n",
       "      <td>the</td>\n",
       "      <td>DT</td>\n",
       "      <td>O</td>\n",
       "    </tr>\n",
       "    <tr>\n",
       "      <th>860553</th>\n",
       "      <td>Sentence: 60680</td>\n",
       "      <td>pain</td>\n",
       "      <td>NN</td>\n",
       "      <td>B-SSLIF</td>\n",
       "    </tr>\n",
       "    <tr>\n",
       "      <th>860554</th>\n",
       "      <td>Sentence: 60680</td>\n",
       "      <td>worsens</td>\n",
       "      <td>NNS</td>\n",
       "      <td>O</td>\n",
       "    </tr>\n",
       "    <tr>\n",
       "      <th>860555</th>\n",
       "      <td>Sentence: 60680</td>\n",
       "      <td>in</td>\n",
       "      <td>IN</td>\n",
       "      <td>O</td>\n",
       "    </tr>\n",
       "    <tr>\n",
       "      <th>860556</th>\n",
       "      <td>Sentence: 60680</td>\n",
       "      <td>the</td>\n",
       "      <td>DT</td>\n",
       "      <td>O</td>\n",
       "    </tr>\n",
       "    <tr>\n",
       "      <th>860557</th>\n",
       "      <td>Sentence: 60680</td>\n",
       "      <td>interim</td>\n",
       "      <td>NN</td>\n",
       "      <td>O</td>\n",
       "    </tr>\n",
       "    <tr>\n",
       "      <th>860558</th>\n",
       "      <td>Sentence: 60680</td>\n",
       "      <td>.</td>\n",
       "      <td>.</td>\n",
       "      <td>O</td>\n",
       "    </tr>\n",
       "    <tr>\n",
       "      <th>860559</th>\n",
       "      <td>Sentence: 60681</td>\n",
       "      <td>electronically</td>\n",
       "      <td>RB</td>\n",
       "      <td>O</td>\n",
       "    </tr>\n",
       "    <tr>\n",
       "      <th>860560</th>\n",
       "      <td>Sentence: 60681</td>\n",
       "      <td>signed</td>\n",
       "      <td>VBN</td>\n",
       "      <td>O</td>\n",
       "    </tr>\n",
       "    <tr>\n",
       "      <th>860561</th>\n",
       "      <td>Sentence: 60681</td>\n",
       "      <td>by</td>\n",
       "      <td>IN</td>\n",
       "      <td>O</td>\n",
       "    </tr>\n",
       "    <tr>\n",
       "      <th>860562</th>\n",
       "      <td>Sentence: 60681</td>\n",
       "      <td>name</td>\n",
       "      <td>NNP</td>\n",
       "      <td>O</td>\n",
       "    </tr>\n",
       "    <tr>\n",
       "      <th>860563</th>\n",
       "      <td>Sentence: 60681</td>\n",
       "      <td>name</td>\n",
       "      <td>NNP</td>\n",
       "      <td>O</td>\n",
       "    </tr>\n",
       "    <tr>\n",
       "      <th>860564</th>\n",
       "      <td>Sentence: 60681</td>\n",
       "      <td>m.d</td>\n",
       "      <td>NNP</td>\n",
       "      <td>O</td>\n",
       "    </tr>\n",
       "    <tr>\n",
       "      <th>860565</th>\n",
       "      <td>Sentence: 60681</td>\n",
       "      <td>date</td>\n",
       "      <td>NNP</td>\n",
       "      <td>O</td>\n",
       "    </tr>\n",
       "    <tr>\n",
       "      <th>860566</th>\n",
       "      <td>Sentence: 60681</td>\n",
       "      <td>7</td>\n",
       "      <td>CD</td>\n",
       "      <td>O</td>\n",
       "    </tr>\n",
       "    <tr>\n",
       "      <th>860567</th>\n",
       "      <td>Sentence: 60681</td>\n",
       "      <td>45pm</td>\n",
       "      <td>CD</td>\n",
       "      <td>O</td>\n",
       "    </tr>\n",
       "    <tr>\n",
       "      <th>860568</th>\n",
       "      <td>Sentence: 60681</td>\n",
       "      <td>est</td>\n",
       "      <td>NNP</td>\n",
       "      <td>O</td>\n",
       "    </tr>\n",
       "    <tr>\n",
       "      <th>860569</th>\n",
       "      <td>Sentence: 60681</td>\n",
       "      <td>author</td>\n",
       "      <td>NN</td>\n",
       "      <td>O</td>\n",
       "    </tr>\n",
       "  </tbody>\n",
       "</table>\n",
       "</div>"
      ],
      "text/plain": [
       "             Sentence #            Word  POS      Tag\n",
       "860550  Sentence: 60680              me  PRP        O\n",
       "860551  Sentence: 60680              if   IN        O\n",
       "860552  Sentence: 60680             the   DT        O\n",
       "860553  Sentence: 60680            pain   NN  B-SSLIF\n",
       "860554  Sentence: 60680         worsens  NNS        O\n",
       "860555  Sentence: 60680              in   IN        O\n",
       "860556  Sentence: 60680             the   DT        O\n",
       "860557  Sentence: 60680         interim   NN        O\n",
       "860558  Sentence: 60680               .    .        O\n",
       "860559  Sentence: 60681  electronically   RB        O\n",
       "860560  Sentence: 60681          signed  VBN        O\n",
       "860561  Sentence: 60681              by   IN        O\n",
       "860562  Sentence: 60681            name  NNP        O\n",
       "860563  Sentence: 60681            name  NNP        O\n",
       "860564  Sentence: 60681             m.d  NNP        O\n",
       "860565  Sentence: 60681            date  NNP        O\n",
       "860566  Sentence: 60681               7   CD        O\n",
       "860567  Sentence: 60681            45pm   CD        O\n",
       "860568  Sentence: 60681             est  NNP        O\n",
       "860569  Sentence: 60681          author   NN        O"
      ]
     },
     "execution_count": 9,
     "metadata": {},
     "output_type": "execute_result"
    }
   ],
   "source": [
    "req_list = [[\"Sentence: \" + str(i + 1), word, POS, tag] for i, (sent, POS_sent, tag_sent) in enumerate(zip(new_sent_words, new_sent_POS_tags, new_sent_tags)) for word, POS, tag in zip(sent, POS_sent, tag_sent)]\n",
    "data = pd.DataFrame(req_list, columns = [\"Sentence #\", \"Word\", \"POS\", \"Tag\"])\n",
    "data.tail(20)"
   ]
  },
  {
   "cell_type": "code",
   "execution_count": 10,
   "metadata": {},
   "outputs": [
    {
     "data": {
      "text/plain": [
       "14566"
      ]
     },
     "execution_count": 10,
     "metadata": {},
     "output_type": "execute_result"
    }
   ],
   "source": [
    "words = list(set(data[\"Word\"].values))\n",
    "words = sorted(words)\n",
    "words.append(\"endpad\")\n",
    "n_words = len(words); n_words"
   ]
  },
  {
   "cell_type": "code",
   "execution_count": 11,
   "metadata": {},
   "outputs": [
    {
     "data": {
      "text/plain": [
       "13455"
      ]
     },
     "execution_count": 11,
     "metadata": {},
     "output_type": "execute_result"
    }
   ],
   "source": [
    "words_tr = list(set(data_train[\"Word\"].values))\n",
    "words_tr = sorted(words_tr)\n",
    "words_tr.append(\"endpad\")\n",
    "n_words_tr = len(words_tr); n_words_tr"
   ]
  },
  {
   "cell_type": "code",
   "execution_count": 12,
   "metadata": {},
   "outputs": [
    {
     "data": {
      "text/plain": [
       "6687"
      ]
     },
     "execution_count": 12,
     "metadata": {},
     "output_type": "execute_result"
    }
   ],
   "source": [
    "words_te = list(set(data_test[\"Word\"].values))\n",
    "words_te = sorted(words_te)\n",
    "words_te.append(\"endpad\")\n",
    "n_words_te = len(words_te); n_words_te"
   ]
  },
  {
   "cell_type": "code",
   "execution_count": 13,
   "metadata": {},
   "outputs": [
    {
     "data": {
      "text/plain": [
       "21"
      ]
     },
     "execution_count": 13,
     "metadata": {},
     "output_type": "execute_result"
    }
   ],
   "source": [
    "tags_test = list(set(data_test[\"Tag\"].values))\n",
    "tags_test = sorted(tags_test)\n",
    "n_tags_test = len(tags_test); n_tags_test"
   ]
  },
  {
   "cell_type": "code",
   "execution_count": 14,
   "metadata": {},
   "outputs": [
    {
     "data": {
      "text/plain": [
       "21"
      ]
     },
     "execution_count": 14,
     "metadata": {},
     "output_type": "execute_result"
    }
   ],
   "source": [
    "tags = list(set(data[\"Tag\"].values))\n",
    "tags = sorted(tags)\n",
    "n_tags = len(tags); n_tags"
   ]
  },
  {
   "cell_type": "code",
   "execution_count": 15,
   "metadata": {
    "collapsed": true
   },
   "outputs": [],
   "source": [
    "class SentenceGetter(object):\n",
    "    \n",
    "    def __init__(self, data):\n",
    "        self.n_sent = 1\n",
    "        self.data = data\n",
    "        self.empty = False\n",
    "        agg_func = lambda s: [(w, p, t) for w, p, t in zip(s[\"Word\"].values.tolist(),\n",
    "                                                           s[\"POS\"].values.tolist(),\n",
    "                                                           s[\"Tag\"].values.tolist())]\n",
    "        self.grouped = self.data.groupby(\"Sentence #\").apply(agg_func)\n",
    "        self.sentences = [s for s in self.grouped]\n",
    "    \n",
    "    def get_next(self):\n",
    "        try:\n",
    "            s = self.grouped[\"Sentence: {}\".format(self.n_sent)]\n",
    "            self.n_sent += 1\n",
    "            return s\n",
    "        except:\n",
    "            return None"
   ]
  },
  {
   "cell_type": "code",
   "execution_count": 16,
   "metadata": {
    "collapsed": true
   },
   "outputs": [],
   "source": [
    "getter = SentenceGetter(data_train)"
   ]
  },
  {
   "cell_type": "code",
   "execution_count": 17,
   "metadata": {
    "collapsed": true
   },
   "outputs": [],
   "source": [
    "getter_test = SentenceGetter(data_test)"
   ]
  },
  {
   "cell_type": "code",
   "execution_count": 18,
   "metadata": {
    "collapsed": true
   },
   "outputs": [],
   "source": [
    "sent = getter.get_next()"
   ]
  },
  {
   "cell_type": "code",
   "execution_count": 20,
   "metadata": {
    "collapsed": true
   },
   "outputs": [],
   "source": [
    "sentences = getter.sentences"
   ]
  },
  {
   "cell_type": "code",
   "execution_count": 21,
   "metadata": {
    "collapsed": true
   },
   "outputs": [],
   "source": [
    "sentences_test = getter_test.sentences"
   ]
  },
  {
   "cell_type": "code",
   "execution_count": 22,
   "metadata": {
    "collapsed": true
   },
   "outputs": [],
   "source": [
    "max_len = 75\n",
    "word2idx = {w: i + 1 for i, w in enumerate(words)}\n",
    "tag2idx = {t: i for i, t in enumerate(tags)}"
   ]
  },
  {
   "cell_type": "code",
   "execution_count": 23,
   "metadata": {},
   "outputs": [
    {
     "data": {
      "text/plain": [
       "14170"
      ]
     },
     "execution_count": 23,
     "metadata": {},
     "output_type": "execute_result"
    }
   ],
   "source": [
    "word2idx[\"vicodin\"]"
   ]
  },
  {
   "cell_type": "code",
   "execution_count": 24,
   "metadata": {},
   "outputs": [
    {
     "data": {
      "text/plain": [
       "2"
      ]
     },
     "execution_count": 24,
     "metadata": {},
     "output_type": "execute_result"
    }
   ],
   "source": [
    "tag2idx[\"B-Drug\"]"
   ]
  },
  {
   "cell_type": "code",
   "execution_count": 25,
   "metadata": {
    "collapsed": true
   },
   "outputs": [],
   "source": [
    "# Reading the PubMed Embeddings\n",
    "with open(\"C:\\\\Project_NLP_Final\\\\Project Dataset\\\\PreProcessing\\\\word_pos_vect_PubMed.csv\") as csv_file:\n",
    "    csv_file = list(csv.reader(csv_file, delimiter=',', quotechar = '\"'))  \n",
    "list_words = list()\n",
    "word_pos_vect = list() \n",
    "embeddings_index = defaultdict(np.array)\n",
    "for i, val in enumerate(csv_file):\n",
    "    if val[0] == 'S':\n",
    "        continue\n",
    "    if val[0] == 'E':\n",
    "        word_pos_vect.append(list_words)\n",
    "        list_words = list()\n",
    "        continue\n",
    "    list_words.append(np.float32(np.array([float(v) for v in val[1:]])))\n",
    "    embeddings_index[val[0]] = np.float32(np.array([float(v) for v in val[1:]]))"
   ]
  },
  {
   "cell_type": "code",
   "execution_count": 26,
   "metadata": {},
   "outputs": [
    {
     "name": "stderr",
     "output_type": "stream",
     "text": [
      "Using TensorFlow backend.\n"
     ]
    }
   ],
   "source": [
    "# Creating the PubMed Word Embedding Matrix\n",
    "from numpy import zeros\n",
    "from keras.preprocessing.text import Tokenizer\n",
    "t = Tokenizer()\n",
    "t.fit_on_texts(words)\n",
    "vocab_size = n_words+1 \n",
    "embedding_matrix = zeros((vocab_size, 400))\n",
    "for word, index in t.word_index.items():\n",
    "        embedding_vector = embeddings_index.get(word)\n",
    "        if embedding_vector is not None:\n",
    "            embedding_matrix[index] = embedding_vector"
   ]
  },
  {
   "cell_type": "code",
   "execution_count": 27,
   "metadata": {},
   "outputs": [
    {
     "data": {
      "text/plain": [
       "12878"
      ]
     },
     "execution_count": 27,
     "metadata": {},
     "output_type": "execute_result"
    }
   ],
   "source": [
    "len(t.word_index.items())"
   ]
  },
  {
   "cell_type": "code",
   "execution_count": 28,
   "metadata": {},
   "outputs": [
    {
     "data": {
      "text/plain": [
       "14567"
      ]
     },
     "execution_count": 28,
     "metadata": {},
     "output_type": "execute_result"
    }
   ],
   "source": [
    "len(embedding_matrix)"
   ]
  },
  {
   "cell_type": "code",
   "execution_count": 29,
   "metadata": {
    "collapsed": true
   },
   "outputs": [],
   "source": [
    "# Getting the training and testing data\n",
    "from keras.preprocessing.sequence import pad_sequences\n",
    "X_te = [[word2idx[w[0]] for w in s] for s in sentences_test]\n",
    "X_tr = [[word2idx[w[0]] for w in s] for s in sentences]"
   ]
  },
  {
   "cell_type": "code",
   "execution_count": 30,
   "metadata": {
    "collapsed": true
   },
   "outputs": [],
   "source": [
    "X_te = pad_sequences(maxlen=max_len, sequences=X_te, padding=\"post\", value=n_words)\n",
    "X_tr = pad_sequences(maxlen=max_len, sequences=X_tr, padding=\"post\", value=n_words)"
   ]
  },
  {
   "cell_type": "code",
   "execution_count": 31,
   "metadata": {
    "collapsed": true
   },
   "outputs": [],
   "source": [
    "y_te = [[tag2idx[w[2]] for w in s] for s in sentences_test]\n",
    "y_tr = [[tag2idx[w[2]] for w in s] for s in sentences]"
   ]
  },
  {
   "cell_type": "code",
   "execution_count": 32,
   "metadata": {
    "collapsed": true
   },
   "outputs": [],
   "source": [
    "y_te = pad_sequences(maxlen=max_len, sequences=y_te, padding=\"post\", value=tag2idx[\"O\"])\n",
    "y_tr = pad_sequences(maxlen=max_len, sequences=y_tr, padding=\"post\", value=tag2idx[\"O\"])"
   ]
  },
  {
   "cell_type": "code",
   "execution_count": 33,
   "metadata": {
    "collapsed": true
   },
   "outputs": [],
   "source": [
    "from keras.utils import to_categorical"
   ]
  },
  {
   "cell_type": "code",
   "execution_count": 34,
   "metadata": {
    "collapsed": true
   },
   "outputs": [],
   "source": [
    "# Getting the training and testing data\n",
    "y_te = [to_categorical(i, num_classes=n_tags) for i in y_te]\n",
    "y_tr = [to_categorical(i, num_classes=n_tags) for i in y_tr]"
   ]
  },
  {
   "cell_type": "code",
   "execution_count": 37,
   "metadata": {
    "collapsed": true
   },
   "outputs": [],
   "source": [
    "from keras.models import Model, Input\n",
    "from keras.layers import LSTM, Embedding, Dense, TimeDistributed, Dropout, Bidirectional\n",
    "from keras_contrib.layers import CRF"
   ]
  },
  {
   "cell_type": "code",
   "execution_count": 62,
   "metadata": {
    "collapsed": true
   },
   "outputs": [],
   "source": [
    "from keras.models import Sequential\n",
    "model= Sequential()  \n",
    "input = Input(shape=(max_len,))\n",
    "model = Embedding(vocab_size, weights=[embedding_matrix],trainable=True, output_dim=400,\n",
    "                  input_length=max_len, mask_zero=True)(input)  # 20-dim embedding\n",
    "model = Bidirectional(LSTM(units=150, return_sequences=True,\n",
    "                           recurrent_dropout=0.4))(model) # variational biLSTM\n",
    "model = TimeDistributed(Dense(50, activation=\"relu\"))(model)  # a dense layer as suggested by neuralNer\n",
    "#from crf import CRFLayer\n",
    "crf = CRF(n_tags)\n",
    "out = crf(model) "
   ]
  },
  {
   "cell_type": "code",
   "execution_count": 63,
   "metadata": {
    "collapsed": true
   },
   "outputs": [],
   "source": [
    "model = Model(input, out)"
   ]
  },
  {
   "cell_type": "code",
   "execution_count": 64,
   "metadata": {
    "collapsed": true
   },
   "outputs": [],
   "source": [
    "model.compile(optimizer=\"adam\", loss=crf.loss_function, metrics=[crf.accuracy])"
   ]
  },
  {
   "cell_type": "code",
   "execution_count": 65,
   "metadata": {},
   "outputs": [
    {
     "name": "stdout",
     "output_type": "stream",
     "text": [
      "_________________________________________________________________\n",
      "Layer (type)                 Output Shape              Param #   \n",
      "=================================================================\n",
      "input_2 (InputLayer)         (None, 75)                0         \n",
      "_________________________________________________________________\n",
      "embedding_2 (Embedding)      (None, 75, 400)           5826800   \n",
      "_________________________________________________________________\n",
      "bidirectional_2 (Bidirection (None, 75, 300)           661200    \n",
      "_________________________________________________________________\n",
      "bidirectional_3 (Bidirection (None, 75, 150)           225600    \n",
      "_________________________________________________________________\n",
      "time_distributed_2 (TimeDist (None, 75, 50)            7550      \n",
      "_________________________________________________________________\n",
      "crf_2 (CRF)                  (None, 75, 21)            1554      \n",
      "=================================================================\n",
      "Total params: 6,722,704\n",
      "Trainable params: 6,722,704\n",
      "Non-trainable params: 0\n",
      "_________________________________________________________________\n"
     ]
    }
   ],
   "source": [
    "model.summary()"
   ]
  },
  {
   "cell_type": "code",
   "execution_count": 67,
   "metadata": {
    "scrolled": true
   },
   "outputs": [
    {
     "name": "stdout",
     "output_type": "stream",
     "text": [
      "Train on 41577 samples, validate on 10395 samples\n",
      "Epoch 1/5\n",
      "41577/41577 [==============================] - 723s 17ms/step - loss: 0.0720 - acc: 0.9826 - val_loss: 0.0334 - val_acc: 0.9873\n",
      "Epoch 2/5\n",
      "41577/41577 [==============================] - 720s 17ms/step - loss: 0.0192 - acc: 0.9922 - val_loss: 0.0231 - val_acc: 0.9899\n",
      "Epoch 3/5\n",
      "41577/41577 [==============================] - 725s 17ms/step - loss: 0.0122 - acc: 0.9940 - val_loss: 0.0201 - val_acc: 0.9903\n",
      "Epoch 4/5\n",
      "41577/41577 [==============================] - 722s 17ms/step - loss: 0.0090 - acc: 0.9951 - val_loss: 0.0189 - val_acc: 0.9908\n",
      "Epoch 5/5\n",
      "41577/41577 [==============================] - 711s 17ms/step - loss: 0.0069 - acc: 0.9959 - val_loss: 0.0204 - val_acc: 0.9908\n"
     ]
    }
   ],
   "source": [
    "from keras.callbacks import CSVLogger\n",
    "\n",
    "csv_logger = CSVLogger(\"C:\\\\Project_NLP_Final\\\\Project Dataset\\\\Saved Models\\\\PubMed Regex\\\\training_log_pubmed_regex.log\", separator=',', append=False)\n",
    "history = model.fit(X_tr, np.array(y_tr), batch_size=31, epochs=5,\n",
    "                    validation_split=0.2, verbose=1, callbacks=[csv_logger])"
   ]
  },
  {
   "cell_type": "code",
   "execution_count": 69,
   "metadata": {},
   "outputs": [],
   "source": [
    "import pandas as pd\n",
    "# log_data = history.history\n",
    "log_data = pd.read_csv(\"C:\\\\Project_NLP_Final\\\\Project Dataset\\\\Saved Models\\\\PubMed Regex\\\\training_log_pubmed_regex.log\", sep=',', engine='python') "
   ]
  },
  {
   "cell_type": "code",
   "execution_count": 70,
   "metadata": {
    "collapsed": true
   },
   "outputs": [],
   "source": [
    "from keras_contrib.utils import save_load_utils\n",
    "save_load_utils.save_all_weights(model,\"C:\\\\Project_NLP_Final\\\\Project Dataset\\\\Saved Models\\\\PubMed Regex\\\\NN_model_pubmed_regex.h5\")\n",
    "#model.save(\"C:\\\\Project_NLP_Final\\\\Project Dataset\\\\Saved Models\\\\PubMed Regex\\\\NN_model_pubmed_regex.h5\")  # creates a HDF5 file 'my_model.h5'"
   ]
  },
  {
   "cell_type": "code",
   "execution_count": 195,
   "metadata": {
    "collapsed": true
   },
   "outputs": [],
   "source": [
    "#from keras_contrib.utils import save_load_utils\n",
    "# returns a compiled model\n",
    "# identical to the previous one\n",
    "#del model\n",
    "\n",
    "#save_load_utils.load_all_weights(model,\"C:\\\\Project_NLP_Final\\\\Project Dataset\\\\Saved Models\\\\PubMed Regex\\\\NN_model_pubmed_regex.h5\")\n",
    "#model = %load_extmodel(\"C:\\\\Project_NLP_Final\\\\Project Dataset\\\\Saved Models\\\\PubMed Regex\\\\NN_model_pubmed_regex.h5\", custom_objects={'CRF':CRF})"
   ]
  },
  {
   "cell_type": "code",
   "execution_count": 71,
   "metadata": {
    "collapsed": true
   },
   "outputs": [],
   "source": [
    "hist = pd.DataFrame(log_data)"
   ]
  },
  {
   "cell_type": "code",
   "execution_count": 72,
   "metadata": {
    "scrolled": false
   },
   "outputs": [
    {
     "data": {
      "image/png": "[encoded data removed]",
      "text/plain": [
       "<matplotlib.figure.Figure at 0x282db6b1d68>"
      ]
     },
     "metadata": {},
     "output_type": "display_data"
    }
   ],
   "source": [
    "# Visualizing the Train-Validation Accuracy and Loss Curves\n",
    "import matplotlib.pyplot as plt\n",
    "acc = hist['acc']\n",
    "val_acc = hist['val_acc']\n",
    "epochs = range(1, len(acc) + 1)\n",
    "plt.style.use(\"ggplot\")\n",
    "plt.figure(figsize=(8,5))\n",
    "plt.plot(epochs, acc, 'bo', label='Training Acc')\n",
    "plt.plot(epochs, val_acc, 'b', label='Validation Acc')\n",
    "plt.title(\"Training and Validation Accuracy\")\n",
    "plt.legend()\n",
    "plt.show()"
   ]
  },
  {
   "cell_type": "code",
   "execution_count": 73,
   "metadata": {},
   "outputs": [
    {
     "data": {
      "image/png": "[encoded data removed]",
      "text/plain": [
       "<matplotlib.figure.Figure at 0x282e61d4e80>"
      ]
     },
     "metadata": {},
     "output_type": "display_data"
    }
   ],
   "source": [
    "loss = hist['loss']\n",
    "val_loss = hist['val_loss']\n",
    "epochs = range(1, len(acc) + 1)\n",
    "plt.style.use(\"ggplot\")\n",
    "plt.figure(figsize=(8,5))\n",
    "plt.plot(epochs, loss, 'bo', label='Training Loss')\n",
    "plt.plot(epochs, val_loss, 'b', label='Validation Loss ')\n",
    "plt.title(\"Training and Validation Loss\")\n",
    "plt.legend()\n",
    "plt.show()"
   ]
  },
  {
   "cell_type": "code",
   "execution_count": 74,
   "metadata": {
    "collapsed": true
   },
   "outputs": [],
   "source": [
    "from seqeval.metrics import precision_score, recall_score, f1_score, classification_report"
   ]
  },
  {
   "cell_type": "code",
   "execution_count": 75,
   "metadata": {},
   "outputs": [
    {
     "name": "stdout",
     "output_type": "stream",
     "text": [
      "8709/8709 [==============================] - 35s 4ms/step\n"
     ]
    }
   ],
   "source": [
    "# Predicting on the test data\n",
    "test_pred = model.predict(X_te, verbose=1)"
   ]
  },
  {
   "cell_type": "code",
   "execution_count": 76,
   "metadata": {
    "collapsed": true
   },
   "outputs": [],
   "source": [
    "idx2tag = {i: w for w, i in tag2idx.items()}\n",
    "\n",
    "def pred2label(pred):\n",
    "    out = []\n",
    "    for pred_i in pred:\n",
    "        out_i = []\n",
    "        for p in pred_i:\n",
    "            p_i = np.argmax(p)\n",
    "            out_i.append(idx2tag[p_i].replace(\"endpad\", \"O\"))\n",
    "        out.append(out_i)\n",
    "    return out\n",
    "    \n",
    "pred_labels = pred2label(test_pred)\n",
    "test_labels = pred2label(y_te)\n",
    "indices = [i for i, v in enumerate(pred_labels) if test_labels[i] != pred_labels[i]]"
   ]
  },
  {
   "cell_type": "code",
   "execution_count": 77,
   "metadata": {
    "collapsed": true
   },
   "outputs": [],
   "source": [
    "from sklearn.metrics import precision_recall_fscore_support"
   ]
  },
  {
   "cell_type": "code",
   "execution_count": 78,
   "metadata": {},
   "outputs": [
    {
     "data": {
      "text/plain": [
       "0.774418943180164"
      ]
     },
     "execution_count": 78,
     "metadata": {},
     "output_type": "execute_result"
    }
   ],
   "source": [
    "f1_score(test_labels, pred_labels, average='weighted')"
   ]
  },
  {
   "cell_type": "code",
   "execution_count": 79,
   "metadata": {},
   "outputs": [
    {
     "data": {
      "text/plain": [
       "0.774418943180164"
      ]
     },
     "execution_count": 79,
     "metadata": {},
     "output_type": "execute_result"
    }
   ],
   "source": [
    "f1_score(test_labels, pred_labels, average='micro')"
   ]
  },
  {
   "cell_type": "code",
   "execution_count": 80,
   "metadata": {},
   "outputs": [
    {
     "data": {
      "text/plain": [
       "0.774418943180164"
      ]
     },
     "execution_count": 80,
     "metadata": {},
     "output_type": "execute_result"
    }
   ],
   "source": [
    "f1_score(test_labels, pred_labels, average='macro')"
   ]
  },
  {
   "cell_type": "code",
   "execution_count": 81,
   "metadata": {},
   "outputs": [
    {
     "name": "stdout",
     "output_type": "stream",
     "text": [
      "             precision    recall  f1-score   support\n",
      "\n",
      " Indication       0.68      0.50      0.58       589\n",
      "      Route       0.85      0.84      0.84       335\n",
      "      SSLIF       0.79      0.80      0.80      5076\n",
      "       Dose       0.85      0.85      0.85       699\n",
      "   Severity       0.56      0.53      0.54       467\n",
      "        PHI       0.21      0.36      0.26        25\n",
      "   Duration       0.79      0.71      0.75       132\n",
      "        ADE       0.58      0.36      0.45       382\n",
      "       Drug       0.88      0.80      0.84      2264\n",
      "  Frequency       0.83      0.77      0.80       591\n",
      "\n",
      "avg / total       0.79      0.76      0.77     10560\n",
      "\n"
     ]
    }
   ],
   "source": [
    "print(classification_report(test_labels, pred_labels))"
   ]
  },
  {
   "cell_type": "code",
   "execution_count": 60,
   "metadata": {},
   "outputs": [
    {
     "name": "stdout",
     "output_type": "stream",
     "text": [
      "Number of Test sentences:  8709\n",
      "Number of Wrongly Classified sentences:  1929\n"
     ]
    }
   ],
   "source": [
    "print(\"Number of Test sentences: \", len(test_labels))\n",
    "print(\"Number of Wrongly Classified sentences: \", len(indices))"
   ]
  },
  {
   "cell_type": "code",
   "execution_count": 3,
   "metadata": {
    "scrolled": true
   },
   "outputs": [],
   "source": [
    "# Saving data for error analysis\n",
    "import nltk\n",
    "csv_pl = open(\"C:\\\\Project_NLP_Final\\\\Project Dataset\\\\Error Analysis\\\\Wrong Sentences.txt\",\"w\", encoding=\"utf8\", newline='')\n",
    "\n",
    "writer = csv.writer(csv_pl, delimiter=',', quotechar = '\"')\n",
    "\n",
    "for i in indices:\n",
    "    sent = list()\n",
    "    for w in X_te[i]:\n",
    "        sent.append(words[w-1])\n",
    "    pos_tag = [pos[1] for pos in nltk.pos_tag(sent)]\n",
    "    p = model.predict(np.array([X_te[i]]))\n",
    "    p = np.argmax(p, axis=-1)\n",
    "    true = np.argmax(y_te[i], -1)\n",
    "    writer.writerow([words[w-1] for w in X_te[i]])\n",
    "    writer.writerow(pos_tag)\n",
    "    writer.writerow([tags[t] for t in true])\n",
    "    writer.writerow([tags[pred] for pred in p[0]])\n",
    "    writer.writerow([])\n",
    "csv_pl.close()"
   ]
  },
  {
   "cell_type": "code",
   "execution_count": null,
   "metadata": {},
   "outputs": [],
   "source": [
    "csv_pl = open(\"C:\\\\Project_NLP_Final\\\\Project Dataset\\\\Error Analysis\\\\System Predicted Less.txt\",\"a\", encoding=\"utf8\", newline='')\n",
    "csv_pm = open(\"C:\\\\Project_NLP_Final\\\\Project Dataset\\\\Error Analysis\\\\System Predicted More.txt\",\"a\", encoding=\"utf8\", newline='')\n",
    "csv_w = open(\"C:\\\\Project_NLP_Final\\\\Project Dataset\\\\Error Analysis\\\\System Predicted Wrongly But Identified NE.txt\",\"a\", encoding=\"utf8\", newline='')\n",
    "csv_ml = open(\"C:\\\\Project_NLP_Final\\\\Project Dataset\\\\Error Analysis\\\\System Predicted More and Less.txt\",\"a\", encoding=\"utf8\", newline='')\n",
    "csv_mw = open(\"C:\\\\Project_NLP_Final\\\\Project Dataset\\\\Error Analysis\\\\System Predicted More and Wrongly.txt\",\"a\", encoding=\"utf8\", newline='')\n",
    "csv_lw = open(\"C:\\\\Project_NLP_Final\\\\Project Dataset\\\\Error Analysis\\\\System Predicted Less and Wrongly.txt\",\"a\", encoding=\"utf8\", newline='')\n",
    "writer_pl = csv.writer(csv_pl, delimiter=',', quotechar = '\"')\n",
    "writer_pm = csv.writer(csv_pm, delimiter=',', quotechar = '\"')\n",
    "writer_w = csv.writer(csv_w, delimiter=',', quotechar = '\"')\n",
    "writer_ml = csv.writer(csv_ml, delimiter=',', quotechar = '\"')\n",
    "writer_mw = csv.writer(csv_mw, delimiter=',', quotechar = '\"')\n",
    "writer_lw = csv.writer(csv_lw, delimiter=',', quotechar = '\"')\n",
    "count = 0\n",
    "for i in indices:\n",
    "    p = model.predict(np.array([X_te[i]]))\n",
    "    p = np.argmax(p, axis=-1)\n",
    "    sent = list()\n",
    "    for w in X_te[i]:\n",
    "        sent.append(words[w-1])\n",
    "    pos_tag = [pos[1] for pos in nltk.pos_tag(sent)]\n",
    "    true = np.argmax(y_te[i], -1)\n",
    "    flag = 0\n",
    "    #print(flag, count)\n",
    "    for w, t, pred in zip(X_te[i], true, p[0]):\n",
    "        if t == pred:\n",
    "            continue\n",
    "        if(t != pred and t == tag2idx['O'] and pred != tag2idx['O'] and flag == 0):\n",
    "            # Predicted More\n",
    "            flag = 1\n",
    "        if(t != pred and t != tag2idx['O'] and pred == tag2idx['O'] and flag == 0):\n",
    "            # Predicted Less\n",
    "            flag = 2\n",
    "        if(t != pred and t != tag2idx['O'] and pred != tag2idx['O'] and flag == 0):\n",
    "            # Predicted Wrongly\n",
    "            flag = 3\n",
    "        if(t != pred and ((t != tag2idx['O'] and pred == tag2idx['O'] and flag == 1) or (t == tag2idx['O'] and pred != tag2idx['O'] and flag == 2))):\n",
    "            # More and Less\n",
    "            flag = 4\n",
    "        if(t != pred and ((t == tag2idx['O'] and pred != tag2idx['O'] and flag == 3) or (t != tag2idx['O'] and pred != tag2idx['O'] and flag == 1))):\n",
    "            # More and Wrongly\n",
    "            flag = 5\n",
    "        if(t != pred and ((t != tag2idx['O'] and pred == tag2idx['O'] and flag == 3) or (t != tag2idx['O'] and pred != tag2idx['O'] and flag == 2))):\n",
    "            # Less and Wrongly\n",
    "            flag = 6\n",
    "    if flag == 1:\n",
    "        count += 1\n",
    "        writer_pm.writerow([words[w-1] for w in X_te[i]])\n",
    "        writer_pm.writerow(pos_tag)\n",
    "        writer_pm.writerow([tags[t] for t in true])\n",
    "        writer_pm.writerow([tags[pred] for pred in p[0]])\n",
    "        writer_pm.writerow([])\n",
    "    elif flag == 2:\n",
    "        count += 1\n",
    "        writer_pl.writerow([words[w-1] for w in X_te[i]])\n",
    "        writer_pl.writerow(pos_tag)\n",
    "        writer_pl.writerow([tags[t] for t in true])\n",
    "        writer_pl.writerow([tags[pred] for pred in p[0]])\n",
    "        writer_pl.writerow([])\n",
    "    elif flag == 3:\n",
    "        count += 1\n",
    "        writer_w.writerow([words[w-1] for w in X_te[i]])\n",
    "        writer_w.writerow(pos_tag)\n",
    "        writer_w.writerow([tags[t] for t in true])\n",
    "        writer_w.writerow([tags[pred] for pred in p[0]])\n",
    "        writer_w.writerow([])\n",
    "    elif flag == 4:\n",
    "        count += 1\n",
    "        writer_ml.writerow([words[w-1] for w in X_te[i]])\n",
    "        writer_ml.writerow(pos_tag)\n",
    "        writer_ml.writerow([tags[t] for t in true])\n",
    "        writer_ml.writerow([tags[pred] for pred in p[0]])\n",
    "        writer_ml.writerow([])\n",
    "    elif flag == 5:\n",
    "        count += 1\n",
    "        writer_mw.writerow([words[w-1] for w in X_te[i]])\n",
    "        writer_mw.writerow(pos_tag)\n",
    "        writer_mw.writerow([tags[t] for t in true])\n",
    "        writer_mw.writerow([tags[pred] for pred in p[0]])\n",
    "        writer_mw.writerow([])\n",
    "    elif flag == 6:\n",
    "        count += 1\n",
    "        writer_lw.writerow([words[w-1] for w in X_te[i]])\n",
    "        writer_lw.writerow(pos_tag)\n",
    "        writer_lw.writerow([tags[t] for t in true])\n",
    "        writer_lw.writerow([tags[pred] for pred in p[0]])\n",
    "        writer_lw.writerow([])\n",
    "\n",
    "csv_pl.close()\n",
    "csv_pm.close()\n",
    "csv_w.close()\n",
    "csv_ml.close()\n",
    "csv_mw.close()\n",
    "csv_lw.close()"
   ]
  }
 ],
 "metadata": {
  "kernelspec": {
   "display_name": "Python 3",
   "language": "python",
   "name": "python3"
  },
  "language_info": {
   "codemirror_mode": {
    "name": "ipython",
    "version": 3
   },
   "file_extension": ".py",
   "mimetype": "text/x-python",
   "name": "python",
   "nbconvert_exporter": "python",
   "pygments_lexer": "ipython3",
   "version": "3.6.7"
  }
 },
 "nbformat": 4,
 "nbformat_minor": 2
}
